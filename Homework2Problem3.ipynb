{
  "nbformat": 4,
  "nbformat_minor": 0,
  "metadata": {
    "colab": {
      "name": "Homework2Problem3.ipynb",
      "provenance": []
    },
    "kernelspec": {
      "name": "python3",
      "display_name": "Python 3"
    },
    "accelerator": "GPU"
  },
  "cells": [
    {
      "cell_type": "markdown",
      "metadata": {
        "id": "n4fBXTAmYzAJ",
        "colab_type": "text"
      },
      "source": [
        "# Imports/Setup"
      ]
    },
    {
      "cell_type": "code",
      "metadata": {
        "id": "ZXOMJTDFNdcL",
        "colab_type": "code",
        "colab": {}
      },
      "source": [
        "import tensorflow as tf\n",
        "from tensorflow import keras\n",
        "from keras import layers\n",
        "from keras import models\n",
        "from keras import optimizers\n",
        "import numpy as np\n",
        "import matplotlib.pyplot as plt\n",
        "\n",
        "from keras.datasets import cifar10\n",
        "\n",
        "(train_images_original, train_labels), (test_images_original, test_labels) = cifar10.load_data()"
      ],
      "execution_count": 0,
      "outputs": []
    },
    {
      "cell_type": "code",
      "metadata": {
        "id": "UEjHG7wCiaAa",
        "colab_type": "code",
        "colab": {}
      },
      "source": [
        "class_names = ['airplan', 'automobile', 'bird', 'cat', 'deer', 'dog', 'frog', 'horse', 'ship', 'truck']"
      ],
      "execution_count": 0,
      "outputs": []
    },
    {
      "cell_type": "markdown",
      "metadata": {
        "id": "uVZiolp7mFKP",
        "colab_type": "text"
      },
      "source": [
        "# Preprocess the data"
      ]
    },
    {
      "cell_type": "code",
      "metadata": {
        "id": "3wN8u5vbBAvM",
        "colab_type": "code",
        "colab": {}
      },
      "source": [
        "train_images = train_images_original.reshape((50000, 32, 32, 3)) / 255.0\n",
        "test_images = test_images_original.reshape((10000, 32, 32, 3)) / 255.0"
      ],
      "execution_count": 0,
      "outputs": []
    },
    {
      "cell_type": "markdown",
      "metadata": {
        "colab_type": "text",
        "id": "M80FOJlOrNg7"
      },
      "source": [
        "# **Model 1: Underfit**\n",
        "**For this model, I only used one convolutional layer and one max pooling layer (with an 8x8 tensor for a 32x32 image) to grossly underfit the model. With this, I achieved about 65% training accuracy and 62% validation accuracy.**"
      ]
    },
    {
      "cell_type": "markdown",
      "metadata": {
        "colab_type": "text",
        "id": "vIe0mod3rNhL"
      },
      "source": [
        "## Build the model"
      ]
    },
    {
      "cell_type": "code",
      "metadata": {
        "colab_type": "code",
        "outputId": "a8fe4e12-8729-46ef-9a00-90d8227c4306",
        "id": "vcEeW4tLrNhN",
        "colab": {
          "base_uri": "https://localhost:8080/"
        }
      },
      "source": [
        "# set up the layers\n",
        "\n",
        "model = keras.Sequential([\n",
        "    keras.layers.Conv2D(32, (3, 3), activation='relu', input_shape=(32, 32, 3)),\n",
        "    keras.layers.MaxPooling2D((8, 8)),\n",
        "    #\n",
        "    #keras.layers.Conv2D(64, (3, 3), activation='relu'),\n",
        "    #keras.layers.MaxPooling2D((2, 2)),\n",
        "    #\n",
        "    #keras.layers.Conv2D(64, (3, 3), activation='relu'),\n",
        "    #\n",
        "    keras.layers.Flatten(),\n",
        "    keras.layers.Dense(64, activation='relu'),\n",
        "    keras.layers.Dense(10, activation='softmax')\n",
        "])\n",
        "model.summary()"
      ],
      "execution_count": 0,
      "outputs": [
        {
          "output_type": "stream",
          "text": [
            "Model: \"sequential_41\"\n",
            "_________________________________________________________________\n",
            "Layer (type)                 Output Shape              Param #   \n",
            "=================================================================\n",
            "conv2d_147 (Conv2D)          (None, 30, 30, 32)        896       \n",
            "_________________________________________________________________\n",
            "max_pooling2d_90 (MaxPooling (None, 3, 3, 32)          0         \n",
            "_________________________________________________________________\n",
            "flatten_41 (Flatten)         (None, 288)               0         \n",
            "_________________________________________________________________\n",
            "dense_108 (Dense)            (None, 64)                18496     \n",
            "_________________________________________________________________\n",
            "dense_109 (Dense)            (None, 10)                650       \n",
            "=================================================================\n",
            "Total params: 20,042\n",
            "Trainable params: 20,042\n",
            "Non-trainable params: 0\n",
            "_________________________________________________________________\n"
          ],
          "name": "stdout"
        }
      ]
    },
    {
      "cell_type": "markdown",
      "metadata": {
        "colab_type": "text",
        "id": "KeBjwW9TrNhT"
      },
      "source": [
        "## Compile the model"
      ]
    },
    {
      "cell_type": "code",
      "metadata": {
        "colab_type": "code",
        "id": "E_GyFJgarNhU",
        "colab": {}
      },
      "source": [
        "# compile the model\n",
        "\n",
        "model.compile(optimizer='adam',\n",
        "             loss='sparse_categorical_crossentropy',\n",
        "             metrics=['accuracy'])"
      ],
      "execution_count": 0,
      "outputs": []
    },
    {
      "cell_type": "markdown",
      "metadata": {
        "colab_type": "text",
        "id": "Wa-UCCUmrNhZ"
      },
      "source": [
        "## Train the model"
      ]
    },
    {
      "cell_type": "code",
      "metadata": {
        "colab_type": "code",
        "outputId": "9ac969f2-ebee-4005-815f-ddd20ea9cac7",
        "id": "TdprkPBTrNha",
        "colab": {
          "base_uri": "https://localhost:8080/",
          "height": 728
        }
      },
      "source": [
        "# train the model\n",
        "epochs = 20\n",
        "history = model.fit(train_images, \n",
        "                      train_labels, \n",
        "                      epochs=epochs,  \n",
        "                      validation_data=(test_images, test_labels))"
      ],
      "execution_count": 0,
      "outputs": [
        {
          "output_type": "stream",
          "text": [
            "Train on 50000 samples, validate on 10000 samples\n",
            "Epoch 1/20\n",
            "50000/50000 [==============================] - 8s 155us/sample - loss: 1.6747 - acc: 0.3962 - val_loss: 1.4750 - val_acc: 0.4656\n",
            "Epoch 2/20\n",
            "50000/50000 [==============================] - 7s 131us/sample - loss: 1.4221 - acc: 0.4971 - val_loss: 1.3659 - val_acc: 0.5217\n",
            "Epoch 3/20\n",
            "50000/50000 [==============================] - 6s 130us/sample - loss: 1.3404 - acc: 0.5291 - val_loss: 1.3313 - val_acc: 0.5290\n",
            "Epoch 4/20\n",
            "50000/50000 [==============================] - 6s 129us/sample - loss: 1.2851 - acc: 0.5472 - val_loss: 1.2977 - val_acc: 0.5503\n",
            "Epoch 5/20\n",
            "50000/50000 [==============================] - 6s 130us/sample - loss: 1.2434 - acc: 0.5635 - val_loss: 1.2323 - val_acc: 0.5751\n",
            "Epoch 6/20\n",
            "50000/50000 [==============================] - 6s 130us/sample - loss: 1.2103 - acc: 0.5745 - val_loss: 1.2068 - val_acc: 0.5762\n",
            "Epoch 7/20\n",
            "50000/50000 [==============================] - 7s 131us/sample - loss: 1.1810 - acc: 0.5875 - val_loss: 1.1970 - val_acc: 0.5806\n",
            "Epoch 8/20\n",
            "50000/50000 [==============================] - 7s 130us/sample - loss: 1.1587 - acc: 0.5953 - val_loss: 1.2177 - val_acc: 0.5694\n",
            "Epoch 9/20\n",
            "50000/50000 [==============================] - 7s 130us/sample - loss: 1.1388 - acc: 0.6018 - val_loss: 1.1534 - val_acc: 0.5962\n",
            "Epoch 10/20\n",
            "50000/50000 [==============================] - 7s 131us/sample - loss: 1.1221 - acc: 0.6077 - val_loss: 1.1553 - val_acc: 0.6025\n",
            "Epoch 11/20\n",
            "50000/50000 [==============================] - 7s 131us/sample - loss: 1.1068 - acc: 0.6129 - val_loss: 1.1470 - val_acc: 0.6000\n",
            "Epoch 12/20\n",
            "50000/50000 [==============================] - 7s 130us/sample - loss: 1.0934 - acc: 0.6186 - val_loss: 1.1269 - val_acc: 0.6059\n",
            "Epoch 13/20\n",
            "50000/50000 [==============================] - 6s 130us/sample - loss: 1.0825 - acc: 0.6224 - val_loss: 1.1542 - val_acc: 0.5955\n",
            "Epoch 14/20\n",
            "50000/50000 [==============================] - 6s 129us/sample - loss: 1.0735 - acc: 0.6249 - val_loss: 1.1048 - val_acc: 0.6210\n",
            "Epoch 15/20\n",
            "50000/50000 [==============================] - 7s 130us/sample - loss: 1.0613 - acc: 0.6297 - val_loss: 1.0985 - val_acc: 0.6179\n",
            "Epoch 16/20\n",
            "50000/50000 [==============================] - 7s 131us/sample - loss: 1.0541 - acc: 0.6314 - val_loss: 1.1077 - val_acc: 0.6181\n",
            "Epoch 17/20\n",
            "50000/50000 [==============================] - 7s 131us/sample - loss: 1.0453 - acc: 0.6339 - val_loss: 1.1123 - val_acc: 0.6147\n",
            "Epoch 18/20\n",
            "50000/50000 [==============================] - 7s 132us/sample - loss: 1.0358 - acc: 0.6381 - val_loss: 1.1406 - val_acc: 0.6005\n",
            "Epoch 19/20\n",
            "50000/50000 [==============================] - 7s 132us/sample - loss: 1.0308 - acc: 0.6400 - val_loss: 1.1029 - val_acc: 0.6158\n",
            "Epoch 20/20\n",
            "50000/50000 [==============================] - 7s 131us/sample - loss: 1.0208 - acc: 0.6432 - val_loss: 1.1058 - val_acc: 0.6194\n"
          ],
          "name": "stdout"
        }
      ]
    },
    {
      "cell_type": "markdown",
      "metadata": {
        "colab_type": "text",
        "id": "35gY55-lrNhd"
      },
      "source": [
        "## Evaluate accuracy"
      ]
    },
    {
      "cell_type": "code",
      "metadata": {
        "colab_type": "code",
        "outputId": "ff672581-c840-4ce0-94ec-163aeaad99c2",
        "id": "SARF0bm-rNhd",
        "colab": {
          "base_uri": "https://localhost:8080/",
          "height": 52
        }
      },
      "source": [
        "test_loss, test_acc = model.evaluate(test_images, test_labels)\n",
        "\n",
        "print('Test accuracy:', test_acc)"
      ],
      "execution_count": 0,
      "outputs": [
        {
          "output_type": "stream",
          "text": [
            "10000/10000 [==============================] - 1s 91us/sample - loss: 1.1058 - acc: 0.6194\n",
            "Test accuracy: 0.6194\n"
          ],
          "name": "stdout"
        }
      ]
    },
    {
      "cell_type": "markdown",
      "metadata": {
        "colab_type": "text",
        "id": "MKYYdyqlrNhg"
      },
      "source": [
        "## Training/Test Loss/Accuracy during training"
      ]
    },
    {
      "cell_type": "code",
      "metadata": {
        "colab_type": "code",
        "id": "fRJsNKyxrNhh",
        "colab": {}
      },
      "source": [
        "history_dict = history.history\n",
        "loss_values = history_dict['loss']\n",
        "test_loss_values = history_dict['val_loss']\n",
        "epochs_range = range(1, epochs+1)"
      ],
      "execution_count": 0,
      "outputs": []
    },
    {
      "cell_type": "code",
      "metadata": {
        "colab_type": "code",
        "outputId": "239cd5e2-4bff-43a4-8cdc-9262d4ad4c78",
        "id": "x6JGRlO_rNhk",
        "colab": {
          "base_uri": "https://localhost:8080/",
          "height": 295
        }
      },
      "source": [
        "plt.plot(epochs_range, loss_values, 'bo', label='Training loss')\n",
        "plt.plot(epochs_range, test_loss_values, 'ro', label='Test loss')\n",
        "plt.title('Training and test loss')\n",
        "plt.xlabel('Epochs')\n",
        "plt.ylabel('Loss')\n",
        "plt.legend()\n",
        "plt.show()"
      ],
      "execution_count": 0,
      "outputs": [
        {
          "output_type": "display_data",
          "data": {
            "image/png": "[encoded data removed]",
            "text/plain": [
              "<Figure size 432x288 with 1 Axes>"
            ]
          },
          "metadata": {
            "tags": []
          }
        }
      ]
    },
    {
      "cell_type": "code",
      "metadata": {
        "colab_type": "code",
        "id": "P0SLlAJ5rNho",
        "colab": {}
      },
      "source": [
        "acc_values = history_dict['acc']\n",
        "test_acc_values = history_dict['val_acc']"
      ],
      "execution_count": 0,
      "outputs": []
    },
    {
      "cell_type": "code",
      "metadata": {
        "colab_type": "code",
        "outputId": "57344931-5472-4217-d4ac-d49fc2e03764",
        "id": "4dwMXUKMrNhq",
        "colab": {
          "base_uri": "https://localhost:8080/",
          "height": 295
        }
      },
      "source": [
        "plt.plot(epochs_range, acc_values, 'bo', label='Training accuracy')\n",
        "plt.plot(epochs_range, test_acc_values, 'ro', label='Test accuracy')\n",
        "plt.title('Training and test accuracy')\n",
        "plt.xlabel('Epochs')\n",
        "plt.ylabel('Accuracy')\n",
        "plt.legend()\n",
        "plt.show()"
      ],
      "execution_count": 0,
      "outputs": [
        {
          "output_type": "display_data",
          "data": {
            "image/png": "[encoded data removed]",
            "text/plain": [
              "<Figure size 432x288 with 1 Axes>"
            ]
          },
          "metadata": {
            "tags": []
          }
        }
      ]
    },
    {
      "cell_type": "code",
      "metadata": {
        "id": "9hbA4kUqkiWw",
        "colab_type": "code",
        "colab": {}
      },
      "source": [
        "train_images = train_images_original.reshape((50000, 32, 32, 3)) / 255.0\n",
        "test_images = test_images_original.reshape((10000, 32, 32, 3)) / 255.0"
      ],
      "execution_count": 0,
      "outputs": []
    },
    {
      "cell_type": "markdown",
      "metadata": {
        "id": "E6aFpenEmWT-",
        "colab_type": "text"
      },
      "source": [
        "# **Model 2: Overfit**\n",
        "**Since our model is too complex, our model is overfitting to the training accuracy, as shown by the 88% training accuracy and 70% validation accuracy by the 20th epoch, as well as the validation accuracy stagnating after about the 5th epoch.**"
      ]
    },
    {
      "cell_type": "markdown",
      "metadata": {
        "id": "nypTnVFZmfWX",
        "colab_type": "text"
      },
      "source": [
        "## Build the model"
      ]
    },
    {
      "cell_type": "code",
      "metadata": {
        "id": "UVMG6mvPmbBo",
        "colab_type": "code",
        "outputId": "f91bf095-3120-4e37-86bd-207557d848e7",
        "colab": {
          "base_uri": "https://localhost:8080/",
          "height": 433
        }
      },
      "source": [
        "# set up the layers\n",
        "\n",
        "model = keras.Sequential([\n",
        "    keras.layers.Conv2D(32, (3, 3), activation='relu', input_shape=(32, 32, 3)),\n",
        "    keras.layers.MaxPooling2D((2, 2)),\n",
        "    #\n",
        "    keras.layers.Conv2D(64, (3, 3), activation='relu'),\n",
        "    keras.layers.MaxPooling2D((2, 2)),\n",
        "    #\n",
        "    keras.layers.Conv2D(64, (3, 3), activation='relu'),\n",
        "    #\n",
        "    keras.layers.Flatten(),\n",
        "    keras.layers.Dense(64, activation='relu'),\n",
        "    keras.layers.Dense(10, activation='softmax')\n",
        "])\n",
        "model.summary()"
      ],
      "execution_count": 0,
      "outputs": [
        {
          "output_type": "stream",
          "text": [
            "Model: \"sequential_42\"\n",
            "_________________________________________________________________\n",
            "Layer (type)                 Output Shape              Param #   \n",
            "=================================================================\n",
            "conv2d_148 (Conv2D)          (None, 30, 30, 32)        896       \n",
            "_________________________________________________________________\n",
            "max_pooling2d_91 (MaxPooling (None, 15, 15, 32)        0         \n",
            "_________________________________________________________________\n",
            "conv2d_149 (Conv2D)          (None, 13, 13, 64)        18496     \n",
            "_________________________________________________________________\n",
            "max_pooling2d_92 (MaxPooling (None, 6, 6, 64)          0         \n",
            "_________________________________________________________________\n",
            "conv2d_150 (Conv2D)          (None, 4, 4, 64)          36928     \n",
            "_________________________________________________________________\n",
            "flatten_42 (Flatten)         (None, 1024)              0         \n",
            "_________________________________________________________________\n",
            "dense_110 (Dense)            (None, 64)                65600     \n",
            "_________________________________________________________________\n",
            "dense_111 (Dense)            (None, 10)                650       \n",
            "=================================================================\n",
            "Total params: 122,570\n",
            "Trainable params: 122,570\n",
            "Non-trainable params: 0\n",
            "_________________________________________________________________\n"
          ],
          "name": "stdout"
        }
      ]
    },
    {
      "cell_type": "markdown",
      "metadata": {
        "id": "y3AkVBIznxHS",
        "colab_type": "text"
      },
      "source": [
        "## Compile the model"
      ]
    },
    {
      "cell_type": "code",
      "metadata": {
        "id": "zEMxcJaMny7r",
        "colab_type": "code",
        "colab": {}
      },
      "source": [
        "# compile the model\n",
        "\n",
        "model.compile(optimizer='adam',\n",
        "             loss='sparse_categorical_crossentropy',\n",
        "             metrics=['accuracy'])"
      ],
      "execution_count": 0,
      "outputs": []
    },
    {
      "cell_type": "markdown",
      "metadata": {
        "id": "QMuIHN3apC95",
        "colab_type": "text"
      },
      "source": [
        "## Train the model"
      ]
    },
    {
      "cell_type": "code",
      "metadata": {
        "id": "cA79U_rfpEvW",
        "colab_type": "code",
        "outputId": "2696b36d-0dc8-4a93-8dea-7a10b519f4ee",
        "colab": {
          "base_uri": "https://localhost:8080/",
          "height": 728
        }
      },
      "source": [
        "# train the model\n",
        "epochs = 20\n",
        "history = model.fit(train_images, \n",
        "                      train_labels, \n",
        "                      epochs=epochs,  \n",
        "                      validation_data=(test_images, test_labels))"
      ],
      "execution_count": 0,
      "outputs": [
        {
          "output_type": "stream",
          "text": [
            "Train on 50000 samples, validate on 10000 samples\n",
            "Epoch 1/20\n",
            "50000/50000 [==============================] - 9s 179us/sample - loss: 1.5316 - acc: 0.4443 - val_loss: 1.3220 - val_acc: 0.5210\n",
            "Epoch 2/20\n",
            "50000/50000 [==============================] - 8s 152us/sample - loss: 1.1790 - acc: 0.5802 - val_loss: 1.1295 - val_acc: 0.5990\n",
            "Epoch 3/20\n",
            "50000/50000 [==============================] - 8s 152us/sample - loss: 1.0178 - acc: 0.6419 - val_loss: 0.9727 - val_acc: 0.6591\n",
            "Epoch 4/20\n",
            "50000/50000 [==============================] - 8s 152us/sample - loss: 0.9162 - acc: 0.6779 - val_loss: 0.9658 - val_acc: 0.6625\n",
            "Epoch 5/20\n",
            "50000/50000 [==============================] - 8s 152us/sample - loss: 0.8420 - acc: 0.7042 - val_loss: 0.8919 - val_acc: 0.6834\n",
            "Epoch 6/20\n",
            "50000/50000 [==============================] - 8s 152us/sample - loss: 0.7852 - acc: 0.7237 - val_loss: 0.8988 - val_acc: 0.6857\n",
            "Epoch 7/20\n",
            "50000/50000 [==============================] - 8s 152us/sample - loss: 0.7443 - acc: 0.7406 - val_loss: 0.8679 - val_acc: 0.7019\n",
            "Epoch 8/20\n",
            "50000/50000 [==============================] - 8s 151us/sample - loss: 0.6964 - acc: 0.7552 - val_loss: 0.8807 - val_acc: 0.6955\n",
            "Epoch 9/20\n",
            "50000/50000 [==============================] - 8s 152us/sample - loss: 0.6600 - acc: 0.7698 - val_loss: 0.8458 - val_acc: 0.7146\n",
            "Epoch 10/20\n",
            "50000/50000 [==============================] - 8s 152us/sample - loss: 0.6243 - acc: 0.7793 - val_loss: 0.8798 - val_acc: 0.7073\n",
            "Epoch 11/20\n",
            "50000/50000 [==============================] - 8s 151us/sample - loss: 0.5894 - acc: 0.7929 - val_loss: 0.9781 - val_acc: 0.6846\n",
            "Epoch 12/20\n",
            "50000/50000 [==============================] - 8s 150us/sample - loss: 0.5588 - acc: 0.8029 - val_loss: 0.9153 - val_acc: 0.7080\n",
            "Epoch 13/20\n",
            "50000/50000 [==============================] - 8s 154us/sample - loss: 0.5294 - acc: 0.8132 - val_loss: 0.8939 - val_acc: 0.7118\n",
            "Epoch 14/20\n",
            "50000/50000 [==============================] - 8s 155us/sample - loss: 0.4954 - acc: 0.8243 - val_loss: 0.9292 - val_acc: 0.7048\n",
            "Epoch 15/20\n",
            "50000/50000 [==============================] - 8s 150us/sample - loss: 0.4734 - acc: 0.8339 - val_loss: 0.9505 - val_acc: 0.7087\n",
            "Epoch 16/20\n",
            "50000/50000 [==============================] - 7s 150us/sample - loss: 0.4438 - acc: 0.8419 - val_loss: 0.9775 - val_acc: 0.7112\n",
            "Epoch 17/20\n",
            "50000/50000 [==============================] - 7s 150us/sample - loss: 0.4161 - acc: 0.8528 - val_loss: 1.0525 - val_acc: 0.6933\n",
            "Epoch 18/20\n",
            "50000/50000 [==============================] - 7s 150us/sample - loss: 0.3941 - acc: 0.8601 - val_loss: 1.0532 - val_acc: 0.6950\n",
            "Epoch 19/20\n",
            "50000/50000 [==============================] - 8s 150us/sample - loss: 0.3671 - acc: 0.8695 - val_loss: 1.0748 - val_acc: 0.6933\n",
            "Epoch 20/20\n",
            "50000/50000 [==============================] - 8s 152us/sample - loss: 0.3476 - acc: 0.8760 - val_loss: 1.1394 - val_acc: 0.6897\n"
          ],
          "name": "stdout"
        }
      ]
    },
    {
      "cell_type": "markdown",
      "metadata": {
        "id": "XM0yTKVJnzvy",
        "colab_type": "text"
      },
      "source": [
        "## Evaluate accuracy"
      ]
    },
    {
      "cell_type": "code",
      "metadata": {
        "id": "fu8BeEjGn3r7",
        "colab_type": "code",
        "outputId": "6ec19abe-c8eb-428b-e6f7-6d2dc5592c35",
        "colab": {
          "base_uri": "https://localhost:8080/",
          "height": 52
        }
      },
      "source": [
        "test_loss, test_acc = model.evaluate(test_images, test_labels)\n",
        "\n",
        "print('Test accuracy:', test_acc)"
      ],
      "execution_count": 0,
      "outputs": [
        {
          "output_type": "stream",
          "text": [
            "10000/10000 [==============================] - 1s 97us/sample - loss: 1.1394 - acc: 0.6897\n",
            "Test accuracy: 0.6897\n"
          ],
          "name": "stdout"
        }
      ]
    },
    {
      "cell_type": "markdown",
      "metadata": {
        "id": "cJqOSFoVn8cN",
        "colab_type": "text"
      },
      "source": [
        "## Training/Test Loss/Accuracy during training"
      ]
    },
    {
      "cell_type": "code",
      "metadata": {
        "id": "6JKE16fUoTht",
        "colab_type": "code",
        "colab": {}
      },
      "source": [
        "history_dict = history.history\n",
        "loss_values = history_dict['loss']\n",
        "test_loss_values = history_dict['val_loss']\n",
        "epochs_range = range(1, epochs+1)"
      ],
      "execution_count": 0,
      "outputs": []
    },
    {
      "cell_type": "code",
      "metadata": {
        "id": "vFmYdqTLoVvG",
        "colab_type": "code",
        "outputId": "d749fa20-1eba-4c0d-dc21-e7075a7a074c",
        "colab": {
          "base_uri": "https://localhost:8080/",
          "height": 295
        }
      },
      "source": [
        "plt.plot(epochs_range, loss_values, 'bo', label='Training loss')\n",
        "plt.plot(epochs_range, test_loss_values, 'ro', label='Test loss')\n",
        "plt.title('Training and test loss')\n",
        "plt.xlabel('Epochs')\n",
        "plt.ylabel('Loss')\n",
        "plt.legend()\n",
        "plt.show()"
      ],
      "execution_count": 0,
      "outputs": [
        {
          "output_type": "display_data",
          "data": {
            "image/png": "[encoded data removed]",
            "text/plain": [
              "<Figure size 432x288 with 1 Axes>"
            ]
          },
          "metadata": {
            "tags": []
          }
        }
      ]
    },
    {
      "cell_type": "code",
      "metadata": {
        "id": "cwKfMJKDoX0J",
        "colab_type": "code",
        "colab": {}
      },
      "source": [
        "acc_values = history_dict['acc']\n",
        "test_acc_values = history_dict['val_acc']"
      ],
      "execution_count": 0,
      "outputs": []
    },
    {
      "cell_type": "code",
      "metadata": {
        "id": "k2sItO48oZ_0",
        "colab_type": "code",
        "outputId": "dc5949cd-14cb-44f8-a738-04454209d893",
        "colab": {
          "base_uri": "https://localhost:8080/",
          "height": 295
        }
      },
      "source": [
        "plt.plot(epochs_range, acc_values, 'bo', label='Training accuracy')\n",
        "plt.plot(epochs_range, test_acc_values, 'ro', label='Test accuracy')\n",
        "plt.title('Training and test accuracy')\n",
        "plt.xlabel('Epochs')\n",
        "plt.ylabel('Accuracy')\n",
        "plt.legend()\n",
        "plt.show()"
      ],
      "execution_count": 0,
      "outputs": [
        {
          "output_type": "display_data",
          "data": {
            "image/png": "[encoded data removed]",
            "text/plain": [
              "<Figure size 432x288 with 1 Axes>"
            ]
          },
          "metadata": {
            "tags": []
          }
        }
      ]
    },
    {
      "cell_type": "markdown",
      "metadata": {
        "colab_type": "text",
        "id": "9S0r3IhA79re"
      },
      "source": [
        "# **Model 3: Decently fitted**\n",
        "**I experimented with epochs, number of layers, filter dimension, etc. but the best validation accuracy I achieved with a decently fit model was about 75%.**"
      ]
    },
    {
      "cell_type": "markdown",
      "metadata": {
        "colab_type": "text",
        "id": "q9FRZpj879rg"
      },
      "source": [
        "## Build the model"
      ]
    },
    {
      "cell_type": "code",
      "metadata": {
        "colab_type": "code",
        "outputId": "8af42dcf-bd5d-4f5a-8f48-55176e9df5d4",
        "id": "SUEiRNTL79rh",
        "colab": {
          "base_uri": "https://localhost:8080/",
          "height": 503
        }
      },
      "source": [
        "# set up the layers\n",
        "\n",
        "model3 = keras.Sequential([\n",
        "    keras.layers.Conv2D(32, (3, 3), activation='relu', input_shape=(32, 32, 3)),\n",
        "    keras.layers.Conv2D(32, (3, 3), activation='relu'),\n",
        "    keras.layers.MaxPooling2D((2, 2)),\n",
        "    #\n",
        "    keras.layers.Conv2D(64, (5, 5), activation='relu'),\n",
        "    keras.layers.Conv2D(64, (3, 3), activation='relu'),\n",
        "    keras.layers.MaxPooling2D((2, 2)),\n",
        "    #\n",
        "    #.layers.Conv2D(128, (3, 3), activation='relu'),\n",
        "    #keras.layers.MaxPooling2D((1, 1)),\n",
        "    #\n",
        "    #keras.layers.Conv2D(256, (3, 3), activation='relu'),\n",
        "    #keras.layers.MaxPooling2D((2, 2)),\n",
        "    #\n",
        "    keras.layers.Flatten(),\n",
        "    keras.layers.Dropout(0.5),\n",
        "    #keras.layers.Dense(512, activation='relu'),\n",
        "    keras.layers.Dense(1024, activation='relu'),\n",
        "    #keras.layers.Dense(2048, activation='relu'),\n",
        "    keras.layers.Dense(10, activation='softmax')\n",
        "])\n",
        "model3.summary()"
      ],
      "execution_count": 0,
      "outputs": [
        {
          "output_type": "stream",
          "text": [
            "Model: \"sequential_43\"\n",
            "_________________________________________________________________\n",
            "Layer (type)                 Output Shape              Param #   \n",
            "=================================================================\n",
            "conv2d_151 (Conv2D)          (None, 30, 30, 32)        896       \n",
            "_________________________________________________________________\n",
            "conv2d_152 (Conv2D)          (None, 28, 28, 32)        9248      \n",
            "_________________________________________________________________\n",
            "max_pooling2d_93 (MaxPooling (None, 14, 14, 32)        0         \n",
            "_________________________________________________________________\n",
            "conv2d_153 (Conv2D)          (None, 10, 10, 64)        51264     \n",
            "_________________________________________________________________\n",
            "conv2d_154 (Conv2D)          (None, 8, 8, 64)          36928     \n",
            "_________________________________________________________________\n",
            "max_pooling2d_94 (MaxPooling (None, 4, 4, 64)          0         \n",
            "_________________________________________________________________\n",
            "flatten_43 (Flatten)         (None, 1024)              0         \n",
            "_________________________________________________________________\n",
            "dropout_26 (Dropout)         (None, 1024)              0         \n",
            "_________________________________________________________________\n",
            "dense_112 (Dense)            (None, 1024)              1049600   \n",
            "_________________________________________________________________\n",
            "dense_113 (Dense)            (None, 10)                10250     \n",
            "=================================================================\n",
            "Total params: 1,158,186\n",
            "Trainable params: 1,158,186\n",
            "Non-trainable params: 0\n",
            "_________________________________________________________________\n"
          ],
          "name": "stdout"
        }
      ]
    },
    {
      "cell_type": "markdown",
      "metadata": {
        "colab_type": "text",
        "id": "pfcqnfPl79rm"
      },
      "source": [
        "## Compile the model"
      ]
    },
    {
      "cell_type": "code",
      "metadata": {
        "colab_type": "code",
        "id": "idE5oQbv79rm",
        "colab": {}
      },
      "source": [
        "# compile the model\n",
        "\n",
        "model3.compile(optimizer='adam',\n",
        "             loss='sparse_categorical_crossentropy',\n",
        "             metrics=['accuracy'])"
      ],
      "execution_count": 0,
      "outputs": []
    },
    {
      "cell_type": "markdown",
      "metadata": {
        "colab_type": "text",
        "id": "G1Vdtblh79rp"
      },
      "source": [
        "## Train the model"
      ]
    },
    {
      "cell_type": "code",
      "metadata": {
        "colab_type": "code",
        "outputId": "75328ec6-e703-49c2-f369-d2e9a9f8e33f",
        "id": "lWGWdbLR79rq",
        "colab": {
          "base_uri": "https://localhost:8080/",
          "height": 451
        }
      },
      "source": [
        "# train the model\n",
        "epochs = 12\n",
        "history = model3.fit(train_images, \n",
        "                      train_labels, \n",
        "                      epochs=epochs,  \n",
        "                      validation_data=(test_images, test_labels))"
      ],
      "execution_count": 0,
      "outputs": [
        {
          "output_type": "stream",
          "text": [
            "Train on 50000 samples, validate on 10000 samples\n",
            "Epoch 1/12\n",
            "50000/50000 [==============================] - 10s 209us/sample - loss: 1.5316 - acc: 0.4392 - val_loss: 1.2363 - val_acc: 0.5481\n",
            "Epoch 2/12\n",
            "50000/50000 [==============================] - 9s 180us/sample - loss: 1.1618 - acc: 0.5823 - val_loss: 1.0081 - val_acc: 0.6396\n",
            "Epoch 3/12\n",
            "50000/50000 [==============================] - 9s 184us/sample - loss: 1.0191 - acc: 0.6357 - val_loss: 0.9314 - val_acc: 0.6689\n",
            "Epoch 4/12\n",
            "50000/50000 [==============================] - 9s 182us/sample - loss: 0.9229 - acc: 0.6712 - val_loss: 0.9241 - val_acc: 0.6749\n",
            "Epoch 5/12\n",
            "50000/50000 [==============================] - 9s 180us/sample - loss: 0.8644 - acc: 0.6918 - val_loss: 0.8871 - val_acc: 0.6922\n",
            "Epoch 6/12\n",
            "50000/50000 [==============================] - 9s 180us/sample - loss: 0.8106 - acc: 0.7142 - val_loss: 0.8260 - val_acc: 0.7157\n",
            "Epoch 7/12\n",
            "50000/50000 [==============================] - 9s 181us/sample - loss: 0.7685 - acc: 0.7263 - val_loss: 0.8024 - val_acc: 0.7250\n",
            "Epoch 8/12\n",
            "50000/50000 [==============================] - 9s 183us/sample - loss: 0.7271 - acc: 0.7426 - val_loss: 0.7856 - val_acc: 0.7280\n",
            "Epoch 9/12\n",
            "50000/50000 [==============================] - 9s 181us/sample - loss: 0.6954 - acc: 0.7544 - val_loss: 0.7569 - val_acc: 0.7405\n",
            "Epoch 10/12\n",
            "50000/50000 [==============================] - 9s 181us/sample - loss: 0.6641 - acc: 0.7644 - val_loss: 0.7728 - val_acc: 0.7317\n",
            "Epoch 11/12\n",
            "50000/50000 [==============================] - 9s 182us/sample - loss: 0.6357 - acc: 0.7764 - val_loss: 0.7402 - val_acc: 0.7480\n",
            "Epoch 12/12\n",
            "50000/50000 [==============================] - 9s 180us/sample - loss: 0.6092 - acc: 0.7827 - val_loss: 0.7374 - val_acc: 0.7503\n"
          ],
          "name": "stdout"
        }
      ]
    },
    {
      "cell_type": "markdown",
      "metadata": {
        "colab_type": "text",
        "id": "V3kt4Tad79rt"
      },
      "source": [
        "## Evaluate accuracy"
      ]
    },
    {
      "cell_type": "code",
      "metadata": {
        "colab_type": "code",
        "outputId": "8989071c-c63e-4ce7-ceb2-4f19c1965562",
        "id": "rpfhzXme79rt",
        "colab": {
          "base_uri": "https://localhost:8080/",
          "height": 52
        }
      },
      "source": [
        "test_loss, test_acc = model3.evaluate(test_images, test_labels)\n",
        "\n",
        "print('Test accuracy:', test_acc)"
      ],
      "execution_count": 0,
      "outputs": [
        {
          "output_type": "stream",
          "text": [
            "10000/10000 [==============================] - 1s 102us/sample - loss: 0.7374 - acc: 0.7503\n",
            "Test accuracy: 0.7503\n"
          ],
          "name": "stdout"
        }
      ]
    },
    {
      "cell_type": "markdown",
      "metadata": {
        "colab_type": "text",
        "id": "JDS6geiz79rw"
      },
      "source": [
        "## Training/Test Loss/Accuracy during training"
      ]
    },
    {
      "cell_type": "code",
      "metadata": {
        "colab_type": "code",
        "id": "jdsIZ3n479ry",
        "colab": {}
      },
      "source": [
        "history_dict = history.history\n",
        "loss_values = history_dict['loss']\n",
        "test_loss_values = history_dict['val_loss']\n",
        "epochs_range = range(1, epochs+1)"
      ],
      "execution_count": 0,
      "outputs": []
    },
    {
      "cell_type": "code",
      "metadata": {
        "colab_type": "code",
        "outputId": "635f0eb3-2cc1-43ad-d3ae-e7dfc0eb64c2",
        "id": "KM4XrhFT79r0",
        "colab": {
          "base_uri": "https://localhost:8080/",
          "height": 295
        }
      },
      "source": [
        "plt.plot(epochs_range, loss_values, 'bo', label='Training loss')\n",
        "plt.plot(epochs_range, test_loss_values, 'ro', label='Test loss')\n",
        "plt.title('Training and test loss')\n",
        "plt.xlabel('Epochs')\n",
        "plt.ylabel('Loss')\n",
        "plt.legend()\n",
        "plt.show()"
      ],
      "execution_count": 0,
      "outputs": [
        {
          "output_type": "display_data",
          "data": {
            "image/png": "[encoded data removed]",
            "text/plain": [
              "<Figure size 432x288 with 1 Axes>"
            ]
          },
          "metadata": {
            "tags": []
          }
        }
      ]
    },
    {
      "cell_type": "code",
      "metadata": {
        "colab_type": "code",
        "id": "czi-bMZi79r3",
        "colab": {}
      },
      "source": [
        "acc_values = history_dict['acc']\n",
        "test_acc_values = history_dict['val_acc']"
      ],
      "execution_count": 0,
      "outputs": []
    },
    {
      "cell_type": "code",
      "metadata": {
        "colab_type": "code",
        "outputId": "90e8d1b8-143b-4371-d9d0-4e7748286331",
        "id": "C4B4nF-u79r7",
        "colab": {
          "base_uri": "https://localhost:8080/",
          "height": 295
        }
      },
      "source": [
        "plt.plot(epochs_range, acc_values, 'bo', label='Training accuracy')\n",
        "plt.plot(epochs_range, test_acc_values, 'ro', label='Test accuracy')\n",
        "plt.title('Training and test accuracy')\n",
        "plt.xlabel('Epochs')\n",
        "plt.ylabel('Accuracy')\n",
        "plt.legend()\n",
        "plt.show()"
      ],
      "execution_count": 0,
      "outputs": [
        {
          "output_type": "display_data",
          "data": {
            "image/png": "[encoded data removed]",
            "text/plain": [
              "<Figure size 432x288 with 1 Axes>"
            ]
          },
          "metadata": {
            "tags": []
          }
        }
      ]
    }
  ]
}