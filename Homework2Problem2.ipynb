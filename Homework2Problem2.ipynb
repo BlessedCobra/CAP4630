{
  "nbformat": 4,
  "nbformat_minor": 0,
  "metadata": {
    "colab": {
      "name": "Homework2Problem2.ipynb",
      "provenance": [],
      "collapsed_sections": []
    },
    "kernelspec": {
      "name": "python3",
      "display_name": "Python 3"
    },
    "accelerator": "GPU"
  },
  "cells": [
    {
      "cell_type": "markdown",
      "metadata": {
        "id": "r7wGlg464X3Z",
        "colab_type": "text"
      },
      "source": [
        "# Importing the MNIST fashion data set"
      ]
    },
    {
      "cell_type": "code",
      "metadata": {
        "id": "SP5GW2rz4Bvv",
        "colab_type": "code",
        "outputId": "ea2bfbd2-b7c2-4924-d501-ac098f78b06d",
        "colab": {
          "base_uri": "https://localhost:8080/",
          "height": 203
        }
      },
      "source": [
        "import matplotlib.pyplot as plt\n",
        "import numpy as np\n",
        "\n",
        "import tensorflow as tf\n",
        "from tensorflow import keras\n",
        "\n",
        "\n",
        "fashion_mnist = keras.datasets.fashion_mnist\n",
        "\n",
        "(train_images, train_labels), (test_images, test_labels) = fashion_mnist.load_data()"
      ],
      "execution_count": 0,
      "outputs": [
        {
          "output_type": "display_data",
          "data": {
            "text/html": [
              "<p style=\"color: red;\">\n",
              "The default version of TensorFlow in Colab will soon switch to TensorFlow 2.x.<br>\n",
              "We recommend you <a href=\"https://www.tensorflow.org/guide/migrate\" target=\"_blank\">upgrade</a> now \n",
              "or ensure your notebook will continue to use TensorFlow 1.x via the <code>%tensorflow_version 1.x</code> magic:\n",
              "<a href=\"https://colab.research.google.com/notebooks/tensorflow_version.ipynb\" target=\"_blank\">more info</a>.</p>\n"
            ],
            "text/plain": [
              "<IPython.core.display.HTML object>"
            ]
          },
          "metadata": {
            "tags": []
          }
        },
        {
          "output_type": "stream",
          "text": [
            "Downloading data from https://storage.googleapis.com/tensorflow/tf-keras-datasets/train-labels-idx1-ubyte.gz\n",
            "32768/29515 [=================================] - 0s 0us/step\n",
            "Downloading data from https://storage.googleapis.com/tensorflow/tf-keras-datasets/train-images-idx3-ubyte.gz\n",
            "26427392/26421880 [==============================] - 0s 0us/step\n",
            "Downloading data from https://storage.googleapis.com/tensorflow/tf-keras-datasets/t10k-labels-idx1-ubyte.gz\n",
            "8192/5148 [===============================================] - 0s 0us/step\n",
            "Downloading data from https://storage.googleapis.com/tensorflow/tf-keras-datasets/t10k-images-idx3-ubyte.gz\n",
            "4423680/4422102 [==============================] - 0s 0us/step\n"
          ],
          "name": "stdout"
        }
      ]
    },
    {
      "cell_type": "markdown",
      "metadata": {
        "id": "IVK3y1JC4ua0",
        "colab_type": "text"
      },
      "source": [
        "# Preprocess the data"
      ]
    },
    {
      "cell_type": "code",
      "metadata": {
        "id": "lsrresm54eD9",
        "colab_type": "code",
        "colab": {}
      },
      "source": [
        "train_images = train_images / 255.0\n",
        "test_images = test_images / 255.0"
      ],
      "execution_count": 0,
      "outputs": []
    },
    {
      "cell_type": "markdown",
      "metadata": {
        "id": "KE5d_2j55TDE",
        "colab_type": "text"
      },
      "source": [
        "# Model 1: Underfit"
      ]
    },
    {
      "cell_type": "markdown",
      "metadata": {
        "id": "emYT4pahIWl3",
        "colab_type": "text"
      },
      "source": [
        "## Build the model"
      ]
    },
    {
      "cell_type": "code",
      "metadata": {
        "id": "lC4Dagnj5QAn",
        "colab_type": "code",
        "outputId": "0f51830e-8b80-46e1-de5b-d09a5ff4161a",
        "colab": {
          "base_uri": "https://localhost:8080/",
          "height": 800
        }
      },
      "source": [
        "# set up the layers\n",
        "\n",
        "model = keras.Sequential([\n",
        "    keras.layers.Flatten(input_shape=(28, 28)),\n",
        "    keras.layers.Dense(128, activation=tf.nn.relu),\n",
        "    keras.layers.Dense(10, activation=tf.nn.softmax)\n",
        "])\n",
        "\n",
        "# compile the model\n",
        "\n",
        "model.compile(optimizer='adam',\n",
        "             loss='sparse_categorical_crossentropy',\n",
        "             metrics=['accuracy'])\n",
        "\n",
        "# train the model\n",
        "epochs = 20\n",
        "history = model.fit(train_images, \n",
        "                      train_labels, \n",
        "                      epochs=epochs,  \n",
        "                      validation_data=(test_images, test_labels))"
      ],
      "execution_count": 0,
      "outputs": [
        {
          "output_type": "stream",
          "text": [
            "WARNING:tensorflow:From /usr/local/lib/python3.6/dist-packages/tensorflow_core/python/ops/resource_variable_ops.py:1630: calling BaseResourceVariable.__init__ (from tensorflow.python.ops.resource_variable_ops) with constraint is deprecated and will be removed in a future version.\n",
            "Instructions for updating:\n",
            "If using Keras pass *_constraint arguments to layers.\n",
            "Train on 60000 samples, validate on 10000 samples\n",
            "Epoch 1/20\n",
            "60000/60000 [==============================] - 5s 83us/sample - loss: 0.5000 - acc: 0.8235 - val_loss: 0.4554 - val_acc: 0.8369\n",
            "Epoch 2/20\n",
            "60000/60000 [==============================] - 4s 69us/sample - loss: 0.3764 - acc: 0.8644 - val_loss: 0.3810 - val_acc: 0.8607\n",
            "Epoch 3/20\n",
            "60000/60000 [==============================] - 4s 68us/sample - loss: 0.3377 - acc: 0.8762 - val_loss: 0.3804 - val_acc: 0.8596\n",
            "Epoch 4/20\n",
            "60000/60000 [==============================] - 4s 67us/sample - loss: 0.3148 - acc: 0.8852 - val_loss: 0.3545 - val_acc: 0.8740\n",
            "Epoch 5/20\n",
            "60000/60000 [==============================] - 4s 68us/sample - loss: 0.2951 - acc: 0.8915 - val_loss: 0.3700 - val_acc: 0.8666\n",
            "Epoch 6/20\n",
            "60000/60000 [==============================] - 4s 67us/sample - loss: 0.2804 - acc: 0.8972 - val_loss: 0.3443 - val_acc: 0.8781\n",
            "Epoch 7/20\n",
            "60000/60000 [==============================] - 4s 67us/sample - loss: 0.2696 - acc: 0.9000 - val_loss: 0.3270 - val_acc: 0.8841\n",
            "Epoch 8/20\n",
            "60000/60000 [==============================] - 4s 68us/sample - loss: 0.2577 - acc: 0.9043 - val_loss: 0.3775 - val_acc: 0.8705\n",
            "Epoch 9/20\n",
            "60000/60000 [==============================] - 4s 67us/sample - loss: 0.2487 - acc: 0.9072 - val_loss: 0.3310 - val_acc: 0.8847\n",
            "Epoch 10/20\n",
            "60000/60000 [==============================] - 4s 67us/sample - loss: 0.2399 - acc: 0.9111 - val_loss: 0.3460 - val_acc: 0.8785\n",
            "Epoch 11/20\n",
            "60000/60000 [==============================] - 4s 68us/sample - loss: 0.2328 - acc: 0.9126 - val_loss: 0.3384 - val_acc: 0.8836\n",
            "Epoch 12/20\n",
            "60000/60000 [==============================] - 4s 68us/sample - loss: 0.2263 - acc: 0.9143 - val_loss: 0.3309 - val_acc: 0.8875\n",
            "Epoch 13/20\n",
            "60000/60000 [==============================] - 4s 68us/sample - loss: 0.2195 - acc: 0.9172 - val_loss: 0.3664 - val_acc: 0.8787\n",
            "Epoch 14/20\n",
            "60000/60000 [==============================] - 4s 68us/sample - loss: 0.2113 - acc: 0.9209 - val_loss: 0.3385 - val_acc: 0.8874\n",
            "Epoch 15/20\n",
            "60000/60000 [==============================] - 4s 68us/sample - loss: 0.2059 - acc: 0.9217 - val_loss: 0.3440 - val_acc: 0.8840\n",
            "Epoch 16/20\n",
            "60000/60000 [==============================] - 4s 69us/sample - loss: 0.1985 - acc: 0.9254 - val_loss: 0.3767 - val_acc: 0.8780\n",
            "Epoch 17/20\n",
            "60000/60000 [==============================] - 4s 67us/sample - loss: 0.1956 - acc: 0.9263 - val_loss: 0.3504 - val_acc: 0.8887\n",
            "Epoch 18/20\n",
            "60000/60000 [==============================] - 4s 68us/sample - loss: 0.1896 - acc: 0.9296 - val_loss: 0.3355 - val_acc: 0.8889\n",
            "Epoch 19/20\n",
            "60000/60000 [==============================] - 4s 67us/sample - loss: 0.1854 - acc: 0.9307 - val_loss: 0.3588 - val_acc: 0.8839\n",
            "Epoch 20/20\n",
            "60000/60000 [==============================] - 4s 68us/sample - loss: 0.1816 - acc: 0.9321 - val_loss: 0.3729 - val_acc: 0.8826\n"
          ],
          "name": "stdout"
        }
      ]
    },
    {
      "cell_type": "markdown",
      "metadata": {
        "id": "WIxDaAuy5Zrh",
        "colab_type": "text"
      },
      "source": [
        "## Evaluate accuracy"
      ]
    },
    {
      "cell_type": "code",
      "metadata": {
        "id": "db7POqaw5dgv",
        "colab_type": "code",
        "outputId": "0765c27a-2931-4ad8-ca2e-44c9b3787cb0",
        "colab": {
          "base_uri": "https://localhost:8080/",
          "height": 52
        }
      },
      "source": [
        "test_loss, test_acc = model.evaluate(test_images, test_labels)\n",
        "\n",
        "print('Test accuracy:', test_acc)"
      ],
      "execution_count": 0,
      "outputs": [
        {
          "output_type": "stream",
          "text": [
            "10000/10000 [==============================] - 0s 43us/sample - loss: 0.3729 - acc: 0.8826\n",
            "Test accuracy: 0.8826\n"
          ],
          "name": "stdout"
        }
      ]
    },
    {
      "cell_type": "markdown",
      "metadata": {
        "id": "6Q0TINv65gOE",
        "colab_type": "text"
      },
      "source": [
        "## Training/Test Loss/Accuracy during training"
      ]
    },
    {
      "cell_type": "code",
      "metadata": {
        "id": "5afJ-vcM5rbq",
        "colab_type": "code",
        "colab": {}
      },
      "source": [
        "history_dict = history.history\n",
        "loss_values = history_dict['loss']\n",
        "test_loss_values = history_dict['val_loss']\n",
        "epochs_range = range(1, epochs+1)"
      ],
      "execution_count": 0,
      "outputs": []
    },
    {
      "cell_type": "code",
      "metadata": {
        "id": "ZJa5ODvz6TVj",
        "colab_type": "code",
        "outputId": "87b77e6e-9313-4e22-f789-4825d2dec595",
        "colab": {
          "base_uri": "https://localhost:8080/",
          "height": 295
        }
      },
      "source": [
        "plt.plot(epochs_range, loss_values, 'bo', label='Training loss')\n",
        "plt.plot(epochs_range, test_loss_values, 'ro', label='Test loss')\n",
        "plt.title('Training and test loss')\n",
        "plt.xlabel('Epochs')\n",
        "plt.ylabel('Loss')\n",
        "plt.legend()\n",
        "plt.show()"
      ],
      "execution_count": 0,
      "outputs": [
        {
          "output_type": "display_data",
          "data": {
            "image/png": "[encoded data removed]",
            "text/plain": [
              "<Figure size 432x288 with 1 Axes>"
            ]
          },
          "metadata": {
            "tags": []
          }
        }
      ]
    },
    {
      "cell_type": "code",
      "metadata": {
        "id": "I6xBYlOQ6UJU",
        "colab_type": "code",
        "colab": {}
      },
      "source": [
        "acc_values = history_dict['acc']\n",
        "test_acc_values = history_dict['val_acc']"
      ],
      "execution_count": 0,
      "outputs": []
    },
    {
      "cell_type": "code",
      "metadata": {
        "id": "CgnuYEZK6WIX",
        "colab_type": "code",
        "outputId": "45561435-2986-46c8-dd4f-8945b73025dc",
        "colab": {
          "base_uri": "https://localhost:8080/",
          "height": 295
        }
      },
      "source": [
        "plt.plot(epochs_range, acc_values, 'bo', label='Training accuracy')\n",
        "plt.plot(epochs_range, test_acc_values, 'ro', label='Test accuracy')\n",
        "plt.title('Training and test accuracy')\n",
        "plt.xlabel('Epochs')\n",
        "plt.ylabel('Accuracy')\n",
        "plt.legend()\n",
        "plt.show()"
      ],
      "execution_count": 0,
      "outputs": [
        {
          "output_type": "display_data",
          "data": {
            "image/png": "[encoded data removed]",
            "text/plain": [
              "<Figure size 432x288 with 1 Axes>"
            ]
          },
          "metadata": {
            "tags": []
          }
        }
      ]
    },
    {
      "cell_type": "markdown",
      "metadata": {
        "id": "1y0e2yXr5qYd",
        "colab_type": "text"
      },
      "source": [
        "## Make Predictions"
      ]
    },
    {
      "cell_type": "code",
      "metadata": {
        "id": "uJCSnqAq7Kpy",
        "colab_type": "code",
        "colab": {}
      },
      "source": [
        "predictions = model.predict(test_images)"
      ],
      "execution_count": 0,
      "outputs": []
    },
    {
      "cell_type": "code",
      "metadata": {
        "id": "qvCRAkTP7MoN",
        "colab_type": "code",
        "outputId": "c5d81ac4-abc9-47b7-f0af-170982c99ba6",
        "colab": {
          "base_uri": "https://localhost:8080/"
        }
      },
      "source": [
        "index = 0\n",
        "predictions[index]"
      ],
      "execution_count": 0,
      "outputs": [
        {
          "output_type": "execute_result",
          "data": {
            "text/plain": [
              "array([2.4003082e-09, 2.1705087e-09, 3.2703357e-13, 4.5102082e-14,\n",
              "       5.8879903e-13, 4.1183092e-05, 1.1322967e-10, 2.1433579e-03,\n",
              "       1.9540214e-09, 9.9781549e-01], dtype=float32)"
            ]
          },
          "metadata": {
            "tags": []
          },
          "execution_count": 12
        }
      ]
    },
    {
      "cell_type": "code",
      "metadata": {
        "id": "UIC-0m497OLV",
        "colab_type": "code",
        "outputId": "bc9b2d26-b168-4fde-87ee-85fdc2ad3378",
        "colab": {
          "base_uri": "https://localhost:8080/"
        }
      },
      "source": [
        "np.argmax(predictions[index])"
      ],
      "execution_count": 0,
      "outputs": [
        {
          "output_type": "execute_result",
          "data": {
            "text/plain": [
              "9"
            ]
          },
          "metadata": {
            "tags": []
          },
          "execution_count": 13
        }
      ]
    },
    {
      "cell_type": "code",
      "metadata": {
        "id": "uRoHuB-27RsB",
        "colab_type": "code",
        "outputId": "457b11a9-11e9-4d03-fcac-1634ad388f12",
        "colab": {
          "base_uri": "https://localhost:8080/"
        }
      },
      "source": [
        "test_labels[index]"
      ],
      "execution_count": 0,
      "outputs": [
        {
          "output_type": "execute_result",
          "data": {
            "text/plain": [
              "9"
            ]
          },
          "metadata": {
            "tags": []
          },
          "execution_count": 14
        }
      ]
    },
    {
      "cell_type": "code",
      "metadata": {
        "id": "M6rV324J7Uqm",
        "colab_type": "code",
        "colab": {}
      },
      "source": [
        "def plot_image(i, predictions_array, true_label, img):\n",
        "  predictions_array, true_label, img = predictions_array[i], true_label[i], img[i]\n",
        "  plt.grid(False)\n",
        "  plt.xticks([])\n",
        "  plt.yticks([])\n",
        "\n",
        "  plt.imshow(img, cmap=plt.cm.binary)\n",
        "\n",
        "  predicted_label = np.argmax(predictions_array)\n",
        "  if predicted_label == true_label:\n",
        "    color = 'blue'\n",
        "  else:\n",
        "    color = 'red'\n",
        "\n",
        "  plt.xlabel(\"{} {:2.0f}% ({})\".format(class_names[predicted_label],\n",
        "                                100*np.max(predictions_array),\n",
        "                                class_names[true_label]),\n",
        "                                color=color)\n",
        "\n",
        "def plot_value_array(i, predictions_array, true_label):\n",
        "  predictions_array, true_label = predictions_array[i], true_label[i]\n",
        "  plt.grid(False)\n",
        "  plt.xticks([])\n",
        "  plt.yticks([])\n",
        "  thisplot = plt.bar(range(10), predictions_array, color=\"#777777\")\n",
        "  plt.ylim([0, 1])\n",
        "  predicted_label = np.argmax(predictions_array)\n",
        "\n",
        "  thisplot[predicted_label].set_color('red')\n",
        "  thisplot[true_label].set_color('blue')"
      ],
      "execution_count": 0,
      "outputs": []
    },
    {
      "cell_type": "code",
      "metadata": {
        "id": "KH4s1F-u7XxC",
        "colab_type": "code",
        "outputId": "91f2d7e1-b18f-4c88-91bf-9948d457ffeb",
        "colab": {
          "base_uri": "https://localhost:8080/"
        }
      },
      "source": [
        "class_names = ['T-shirt/top', 'Trouser', 'Pullover', 'Dress', 'Coat',\n",
        "               'Sandal', 'Shirt', 'Sneaker', 'Bag', 'Ankle boot']\n",
        "\n",
        "index = 0\n",
        "plt.figure(figsize=(6,3))\n",
        "plt.subplot(1,2,1)\n",
        "plot_image(index, predictions, test_labels, test_images)\n",
        "plt.subplot(1,2,2)\n",
        "plot_value_array(index, predictions,  test_labels)\n"
      ],
      "execution_count": 0,
      "outputs": [
        {
          "output_type": "display_data",
          "data": {
            "image/png": "[encoded data removed]",
            "text/plain": [
              "<Figure size 432x216 with 2 Axes>"
            ]
          },
          "metadata": {
            "tags": []
          }
        }
      ]
    },
    {
      "cell_type": "code",
      "metadata": {
        "id": "dEkuFLYX7aRp",
        "colab_type": "code",
        "outputId": "cf956a02-8771-49bb-910d-486e09a97224",
        "colab": {
          "base_uri": "https://localhost:8080/"
        }
      },
      "source": [
        "# Plot the first X test images, their predicted label, and the true label\n",
        "# Color correct predictions in blue, incorrect predictions in red\n",
        "num_rows = 5\n",
        "num_cols = 3\n",
        "num_images = num_rows*num_cols\n",
        "plt.figure(figsize=(2*2*num_cols, 2*num_rows))\n",
        "for i in range(num_images):\n",
        "  plt.subplot(num_rows, 2*num_cols, 2*i+1)\n",
        "  plot_image(i, predictions, test_labels, test_images)\n",
        "  plt.subplot(num_rows, 2*num_cols, 2*i+2)\n",
        "  plot_value_array(i, predictions, test_labels)\n"
      ],
      "execution_count": 0,
      "outputs": [
        {
          "output_type": "display_data",
          "data": {
            "image/png": "[encoded data removed]",
            "text/plain": [
              "<Figure size 864x720 with 30 Axes>"
            ]
          },
          "metadata": {
            "tags": []
          }
        }
      ]
    },
    {
      "cell_type": "markdown",
      "metadata": {
        "colab_type": "text",
        "id": "2s6TQrdCIBfV"
      },
      "source": [
        "# Model 2: Overfit"
      ]
    },
    {
      "cell_type": "markdown",
      "metadata": {
        "id": "00b4zEfVIOTA",
        "colab_type": "text"
      },
      "source": [
        "## Build the model"
      ]
    },
    {
      "cell_type": "code",
      "metadata": {
        "colab_type": "code",
        "outputId": "b8a17ccf-f0cc-478e-848a-b7d2d9a550de",
        "id": "Kcar7A62IBfc",
        "colab": {
          "base_uri": "https://localhost:8080/"
        }
      },
      "source": [
        "# set up the layers\n",
        "\n",
        "model = keras.Sequential([\n",
        "    keras.layers.Flatten(input_shape=(28, 28)),\n",
        "    keras.layers.Dense(512, activation=tf.nn.relu),\n",
        "    keras.layers.Dense(10, activation=tf.nn.softmax)\n",
        "])\n",
        "\n",
        "# compile the model\n",
        "\n",
        "model.compile(optimizer='adam',\n",
        "             loss='sparse_categorical_crossentropy',\n",
        "             metrics=['accuracy'])\n",
        "\n",
        "# train the model\n",
        "epochs = 20\n",
        "history = model.fit(train_images, \n",
        "                      train_labels, \n",
        "                      epochs=epochs,  \n",
        "                      validation_data=(test_images, test_labels))"
      ],
      "execution_count": 0,
      "outputs": [
        {
          "output_type": "stream",
          "text": [
            "Train on 60000 samples, validate on 10000 samples\n",
            "Epoch 1/20\n",
            "60000/60000 [==============================] - 4s 70us/sample - loss: 0.4755 - acc: 0.8309 - val_loss: 0.4289 - val_acc: 0.8366\n",
            "Epoch 2/20\n",
            "60000/60000 [==============================] - 4s 68us/sample - loss: 0.3604 - acc: 0.8679 - val_loss: 0.4129 - val_acc: 0.8520\n",
            "Epoch 3/20\n",
            "60000/60000 [==============================] - 4s 69us/sample - loss: 0.3210 - acc: 0.8819 - val_loss: 0.3591 - val_acc: 0.8714\n",
            "Epoch 4/20\n",
            "60000/60000 [==============================] - 4s 67us/sample - loss: 0.2991 - acc: 0.8890 - val_loss: 0.3587 - val_acc: 0.8732\n",
            "Epoch 5/20\n",
            "60000/60000 [==============================] - 4s 69us/sample - loss: 0.2810 - acc: 0.8958 - val_loss: 0.3364 - val_acc: 0.8810\n",
            "Epoch 6/20\n",
            "60000/60000 [==============================] - 4s 69us/sample - loss: 0.2668 - acc: 0.9013 - val_loss: 0.3395 - val_acc: 0.8772\n",
            "Epoch 7/20\n",
            "60000/60000 [==============================] - 4s 69us/sample - loss: 0.2514 - acc: 0.9060 - val_loss: 0.3346 - val_acc: 0.8830\n",
            "Epoch 8/20\n",
            "60000/60000 [==============================] - 4s 68us/sample - loss: 0.2408 - acc: 0.9103 - val_loss: 0.3392 - val_acc: 0.8824\n",
            "Epoch 9/20\n",
            "60000/60000 [==============================] - 4s 67us/sample - loss: 0.2338 - acc: 0.9121 - val_loss: 0.3286 - val_acc: 0.8845\n",
            "Epoch 10/20\n",
            "60000/60000 [==============================] - 4s 68us/sample - loss: 0.2208 - acc: 0.9162 - val_loss: 0.3374 - val_acc: 0.8828\n",
            "Epoch 11/20\n",
            "60000/60000 [==============================] - 4s 67us/sample - loss: 0.2147 - acc: 0.9193 - val_loss: 0.3542 - val_acc: 0.8814\n",
            "Epoch 12/20\n",
            "60000/60000 [==============================] - 4s 68us/sample - loss: 0.2071 - acc: 0.9218 - val_loss: 0.3431 - val_acc: 0.8848\n",
            "Epoch 13/20\n",
            "60000/60000 [==============================] - 4s 68us/sample - loss: 0.1989 - acc: 0.9249 - val_loss: 0.3689 - val_acc: 0.8780\n",
            "Epoch 14/20\n",
            "60000/60000 [==============================] - 4s 68us/sample - loss: 0.1937 - acc: 0.9269 - val_loss: 0.3379 - val_acc: 0.8918\n",
            "Epoch 15/20\n",
            "60000/60000 [==============================] - 4s 68us/sample - loss: 0.1851 - acc: 0.9306 - val_loss: 0.3429 - val_acc: 0.8910\n",
            "Epoch 16/20\n",
            "60000/60000 [==============================] - 4s 67us/sample - loss: 0.1792 - acc: 0.9324 - val_loss: 0.3736 - val_acc: 0.8867\n",
            "Epoch 17/20\n",
            "60000/60000 [==============================] - 4s 67us/sample - loss: 0.1730 - acc: 0.9339 - val_loss: 0.3439 - val_acc: 0.8943\n",
            "Epoch 18/20\n",
            "60000/60000 [==============================] - 4s 68us/sample - loss: 0.1702 - acc: 0.9356 - val_loss: 0.3559 - val_acc: 0.8886\n",
            "Epoch 19/20\n",
            "60000/60000 [==============================] - 4s 68us/sample - loss: 0.1625 - acc: 0.9378 - val_loss: 0.3810 - val_acc: 0.8815\n",
            "Epoch 20/20\n",
            "60000/60000 [==============================] - 4s 67us/sample - loss: 0.1608 - acc: 0.9393 - val_loss: 0.4020 - val_acc: 0.8811\n"
          ],
          "name": "stdout"
        }
      ]
    },
    {
      "cell_type": "markdown",
      "metadata": {
        "colab_type": "text",
        "id": "0Mu3ON-BIBfh"
      },
      "source": [
        "## Evaluate accuracy"
      ]
    },
    {
      "cell_type": "code",
      "metadata": {
        "colab_type": "code",
        "outputId": "f5c5091f-372c-4d3a-fa18-3278d29b8bc6",
        "id": "7vbSi37OIBfi",
        "colab": {
          "base_uri": "https://localhost:8080/"
        }
      },
      "source": [
        "test_loss, test_acc = model.evaluate(test_images, test_labels)\n",
        "\n",
        "print('Test accuracy:', test_acc)"
      ],
      "execution_count": 0,
      "outputs": [
        {
          "output_type": "stream",
          "text": [
            "10000/10000 [==============================] - 0s 43us/sample - loss: 0.4020 - acc: 0.8811\n",
            "Test accuracy: 0.8811\n"
          ],
          "name": "stdout"
        }
      ]
    },
    {
      "cell_type": "markdown",
      "metadata": {
        "colab_type": "text",
        "id": "L5RTaJHZIBfl"
      },
      "source": [
        "## Training/Test Loss/Accuracy during training"
      ]
    },
    {
      "cell_type": "code",
      "metadata": {
        "colab_type": "code",
        "id": "wNrcgv2AIBfm",
        "colab": {}
      },
      "source": [
        "history_dict = history.history\n",
        "loss_values = history_dict['loss']\n",
        "test_loss_values = history_dict['val_loss']\n",
        "epochs_range = range(1, epochs+1)"
      ],
      "execution_count": 0,
      "outputs": []
    },
    {
      "cell_type": "code",
      "metadata": {
        "colab_type": "code",
        "outputId": "a01ac6f0-d245-4eb7-a79f-ac9b878523b2",
        "id": "f11azvR7IBfp",
        "colab": {
          "base_uri": "https://localhost:8080/"
        }
      },
      "source": [
        "plt.plot(epochs_range, loss_values, 'bo', label='Training loss')\n",
        "plt.plot(epochs_range, test_loss_values, 'ro', label='Test loss')\n",
        "plt.title('Training and test loss')\n",
        "plt.xlabel('Epochs')\n",
        "plt.ylabel('Loss')\n",
        "plt.legend()\n",
        "plt.show()"
      ],
      "execution_count": 0,
      "outputs": [
        {
          "output_type": "display_data",
          "data": {
            "image/png": "[encoded data removed]",
            "text/plain": [
              "<Figure size 432x288 with 1 Axes>"
            ]
          },
          "metadata": {
            "tags": []
          }
        }
      ]
    },
    {
      "cell_type": "code",
      "metadata": {
        "colab_type": "code",
        "id": "pwdvvuvDIBfr",
        "colab": {}
      },
      "source": [
        "acc_values = history_dict['acc']\n",
        "test_acc_values = history_dict['val_acc']"
      ],
      "execution_count": 0,
      "outputs": []
    },
    {
      "cell_type": "markdown",
      "metadata": {
        "id": "m0WXy_jGJgUD",
        "colab_type": "text"
      },
      "source": [
        "Model is Overfitting: The training accuracy keeps increasing at a steady rate, while the test accuracy stagnated after the first few epochs"
      ]
    },
    {
      "cell_type": "code",
      "metadata": {
        "colab_type": "code",
        "outputId": "f494b6ae-2f5e-4218-e22d-57922af5842c",
        "id": "R9-cdwSKIBfu",
        "colab": {
          "base_uri": "https://localhost:8080/"
        }
      },
      "source": [
        "plt.plot(epochs_range, acc_values, 'bo', label='Training accuracy')\n",
        "plt.plot(epochs_range, test_acc_values, 'ro', label='Test accuracy')\n",
        "plt.title('Training and test accuracy')\n",
        "plt.xlabel('Epochs')\n",
        "plt.ylabel('Accuracy')\n",
        "plt.legend()\n",
        "plt.show()"
      ],
      "execution_count": 0,
      "outputs": [
        {
          "output_type": "display_data",
          "data": {
            "image/png": "[encoded data removed]",
            "text/plain": [
              "<Figure size 432x288 with 1 Axes>"
            ]
          },
          "metadata": {
            "tags": []
          }
        }
      ]
    },
    {
      "cell_type": "markdown",
      "metadata": {
        "colab_type": "text",
        "id": "kB_KqiADIBfx"
      },
      "source": [
        "## Make Predictions"
      ]
    },
    {
      "cell_type": "code",
      "metadata": {
        "colab_type": "code",
        "id": "RfAgBlTPIBfx",
        "colab": {}
      },
      "source": [
        "predictions = model.predict(test_images)"
      ],
      "execution_count": 0,
      "outputs": []
    },
    {
      "cell_type": "code",
      "metadata": {
        "colab_type": "code",
        "outputId": "0e4161e8-e7e7-4db8-a275-57a77b626f8c",
        "id": "oIE8TvJsIBf0",
        "colab": {
          "base_uri": "https://localhost:8080/"
        }
      },
      "source": [
        "index = 0\n",
        "predictions[index]"
      ],
      "execution_count": 0,
      "outputs": [
        {
          "output_type": "execute_result",
          "data": {
            "text/plain": [
              "array([6.8377387e-12, 1.9110064e-14, 2.8455127e-14, 8.2905056e-19,\n",
              "       1.7246319e-16, 4.1847659e-07, 2.2233697e-14, 4.7563782e-04,\n",
              "       3.2978567e-14, 9.9952400e-01], dtype=float32)"
            ]
          },
          "metadata": {
            "tags": []
          },
          "execution_count": 25
        }
      ]
    },
    {
      "cell_type": "code",
      "metadata": {
        "colab_type": "code",
        "outputId": "0c6a648c-1690-46ce-8ddc-794a5d080228",
        "id": "u77X7b-bIBf4",
        "colab": {
          "base_uri": "https://localhost:8080/"
        }
      },
      "source": [
        "np.argmax(predictions[index])"
      ],
      "execution_count": 0,
      "outputs": [
        {
          "output_type": "execute_result",
          "data": {
            "text/plain": [
              "9"
            ]
          },
          "metadata": {
            "tags": []
          },
          "execution_count": 26
        }
      ]
    },
    {
      "cell_type": "code",
      "metadata": {
        "colab_type": "code",
        "outputId": "84d5aa74-736c-4f5c-98ba-175b175c85a9",
        "id": "X6mmBah0IBf6",
        "colab": {
          "base_uri": "https://localhost:8080/"
        }
      },
      "source": [
        "test_labels[index]"
      ],
      "execution_count": 0,
      "outputs": [
        {
          "output_type": "execute_result",
          "data": {
            "text/plain": [
              "9"
            ]
          },
          "metadata": {
            "tags": []
          },
          "execution_count": 27
        }
      ]
    },
    {
      "cell_type": "code",
      "metadata": {
        "colab_type": "code",
        "id": "7UhzWuMXIBf9",
        "colab": {}
      },
      "source": [
        "def plot_image(i, predictions_array, true_label, img):\n",
        "  predictions_array, true_label, img = predictions_array[i], true_label[i], img[i]\n",
        "  plt.grid(False)\n",
        "  plt.xticks([])\n",
        "  plt.yticks([])\n",
        "\n",
        "  plt.imshow(img, cmap=plt.cm.binary)\n",
        "\n",
        "  predicted_label = np.argmax(predictions_array)\n",
        "  if predicted_label == true_label:\n",
        "    color = 'blue'\n",
        "  else:\n",
        "    color = 'red'\n",
        "\n",
        "  plt.xlabel(\"{} {:2.0f}% ({})\".format(class_names[predicted_label],\n",
        "                                100*np.max(predictions_array),\n",
        "                                class_names[true_label]),\n",
        "                                color=color)\n",
        "\n",
        "def plot_value_array(i, predictions_array, true_label):\n",
        "  predictions_array, true_label = predictions_array[i], true_label[i]\n",
        "  plt.grid(False)\n",
        "  plt.xticks([])\n",
        "  plt.yticks([])\n",
        "  thisplot = plt.bar(range(10), predictions_array, color=\"#777777\")\n",
        "  plt.ylim([0, 1])\n",
        "  predicted_label = np.argmax(predictions_array)\n",
        "\n",
        "  thisplot[predicted_label].set_color('red')\n",
        "  thisplot[true_label].set_color('blue')"
      ],
      "execution_count": 0,
      "outputs": []
    },
    {
      "cell_type": "code",
      "metadata": {
        "colab_type": "code",
        "outputId": "f437f9b0-b3b8-45f8-eefe-c4e44a3065c9",
        "id": "VfkkgCiTIBf_",
        "colab": {
          "base_uri": "https://localhost:8080/"
        }
      },
      "source": [
        "class_names = ['T-shirt/top', 'Trouser', 'Pullover', 'Dress', 'Coat',\n",
        "               'Sandal', 'Shirt', 'Sneaker', 'Bag', 'Ankle boot']\n",
        "\n",
        "index = 0\n",
        "plt.figure(figsize=(6,3))\n",
        "plt.subplot(1,2,1)\n",
        "plot_image(index, predictions, test_labels, test_images)\n",
        "plt.subplot(1,2,2)\n",
        "plot_value_array(index, predictions,  test_labels)\n"
      ],
      "execution_count": 0,
      "outputs": [
        {
          "output_type": "display_data",
          "data": {
            "image/png": "[encoded data removed]",
            "text/plain": [
              "<Figure size 432x216 with 2 Axes>"
            ]
          },
          "metadata": {
            "tags": []
          }
        }
      ]
    },
    {
      "cell_type": "code",
      "metadata": {
        "colab_type": "code",
        "outputId": "738da0f3-2b84-46c4-aeac-ca9a1f2443bb",
        "id": "5i0dTrrfIBgC",
        "colab": {
          "base_uri": "https://localhost:8080/"
        }
      },
      "source": [
        "# Plot the first X test images, their predicted label, and the true label\n",
        "# Color correct predictions in blue, incorrect predictions in red\n",
        "num_rows = 5\n",
        "num_cols = 3\n",
        "num_images = num_rows*num_cols\n",
        "plt.figure(figsize=(2*2*num_cols, 2*num_rows))\n",
        "for i in range(num_images):\n",
        "  plt.subplot(num_rows, 2*num_cols, 2*i+1)\n",
        "  plot_image(i, predictions, test_labels, test_images)\n",
        "  plt.subplot(num_rows, 2*num_cols, 2*i+2)\n",
        "  plot_value_array(i, predictions, test_labels)\n"
      ],
      "execution_count": 0,
      "outputs": [
        {
          "output_type": "display_data",
          "data": {
            "image/png": "[encoded data removed]",
            "text/plain": [
              "<Figure size 864x720 with 30 Axes>"
            ]
          },
          "metadata": {
            "tags": []
          }
        }
      ]
    },
    {
      "cell_type": "markdown",
      "metadata": {
        "colab_type": "text",
        "id": "xE54L6Z7KCtg"
      },
      "source": [
        "# Model 3: Decently Fitted"
      ]
    },
    {
      "cell_type": "markdown",
      "metadata": {
        "colab_type": "text",
        "id": "Ihka72aeKCtw"
      },
      "source": [
        "## Build the model"
      ]
    },
    {
      "cell_type": "code",
      "metadata": {
        "colab_type": "code",
        "outputId": "9f1f1b3c-544d-4ad8-c6a0-2d5ea7dc7060",
        "id": "g6mzHXj1KCtx",
        "colab": {
          "base_uri": "https://localhost:8080/",
          "height": 384
        }
      },
      "source": [
        "# set up the layers\n",
        "from keras import layers\n",
        "\n",
        "model = keras.Sequential([\n",
        "    keras.layers.Flatten(input_shape=(28, 28)),\n",
        "    keras.layers.Dense(256, activation=tf.nn.relu, name='Layer1'),\n",
        "    keras.layers.Dense(128, activation=tf.nn.relu, name='Layer2'),\n",
        "    keras.layers.Dense(64, activation=tf.nn.relu, name='Layer3'),\n",
        "    #keras.layers.Dense(512, activation=tf.nn.relu, name='Layer4'),\n",
        "    keras.layers.Dense(10, activation=tf.nn.softmax, name='output')\n",
        "])\n",
        "\n",
        "# using dropout\n",
        "model.add(keras.layers.Dropout(0.5))\n",
        "model.add(keras.layers.Dense(1, activation='sigmoid'))\n",
        "#model.add(layers.Dense(512, activation='relu'))\n",
        "#model.add(layers.Dense(1, activation='sigmoid'))\n",
        "\n",
        "# compile the model\n",
        "\n",
        "model.compile(optimizer='adam',\n",
        "             loss='sparse_categorical_crossentropy',\n",
        "             metrics=['accuracy'])\n",
        "\n",
        "# train the model\n",
        "epochs = 10\n",
        "history = model.fit(train_images, \n",
        "                      train_labels, \n",
        "                      epochs=epochs,  \n",
        "                      validation_data=(test_images, test_labels))"
      ],
      "execution_count": 0,
      "outputs": [
        {
          "output_type": "stream",
          "text": [
            "WARNING:tensorflow:From /usr/local/lib/python3.6/dist-packages/tensorflow_core/python/ops/math_grad.py:1424: where (from tensorflow.python.ops.array_ops) is deprecated and will be removed in a future version.\n",
            "Instructions for updating:\n",
            "Use tf.where in 2.0, which has the same broadcast rule as np.where\n",
            "Train on 60000 samples, validate on 10000 samples\n",
            "Epoch 1/10\n",
            "60000/60000 [==============================] - 6s 98us/sample - loss: nan - acc: 0.1001 - val_loss: nan - val_acc: 0.1000\n",
            "Epoch 2/10\n",
            "60000/60000 [==============================] - 6s 95us/sample - loss: nan - acc: 0.1000 - val_loss: nan - val_acc: 0.1000\n",
            "Epoch 3/10\n",
            "60000/60000 [==============================] - 6s 94us/sample - loss: nan - acc: 0.1000 - val_loss: nan - val_acc: 0.1000\n",
            "Epoch 4/10\n",
            "60000/60000 [==============================] - 6s 93us/sample - loss: nan - acc: 0.1000 - val_loss: nan - val_acc: 0.1000\n",
            "Epoch 5/10\n",
            "60000/60000 [==============================] - 6s 92us/sample - loss: nan - acc: 0.1000 - val_loss: nan - val_acc: 0.1000\n",
            "Epoch 6/10\n",
            "60000/60000 [==============================] - 6s 94us/sample - loss: nan - acc: 0.1000 - val_loss: nan - val_acc: 0.1000\n",
            "Epoch 7/10\n",
            "60000/60000 [==============================] - 6s 94us/sample - loss: nan - acc: 0.1000 - val_loss: nan - val_acc: 0.1000\n",
            "Epoch 8/10\n",
            "11360/60000 [====>.........................] - ETA: 4s - loss: nan - acc: 0.1033"
          ],
          "name": "stdout"
        }
      ]
    },
    {
      "cell_type": "markdown",
      "metadata": {
        "colab_type": "text",
        "id": "eZKa0wg8KCt3"
      },
      "source": [
        "## Evaluate accuracy"
      ]
    },
    {
      "cell_type": "code",
      "metadata": {
        "colab_type": "code",
        "id": "wnZutjhtKCt4",
        "colab": {}
      },
      "source": [
        "test_loss, test_acc = model.evaluate(test_images, test_labels)\n",
        "\n",
        "print('Test accuracy:', test_acc)"
      ],
      "execution_count": 0,
      "outputs": []
    },
    {
      "cell_type": "markdown",
      "metadata": {
        "colab_type": "text",
        "id": "Nl_TOJClKCt6"
      },
      "source": [
        "## Training/Test Loss/Accuracy during training"
      ]
    },
    {
      "cell_type": "code",
      "metadata": {
        "colab_type": "code",
        "id": "ga5a3dtPKCt7",
        "colab": {}
      },
      "source": [
        "history_dict = history.history\n",
        "loss_values = history_dict['loss']\n",
        "test_loss_values = history_dict['val_loss']\n",
        "epochs_range = range(1, epochs+1)"
      ],
      "execution_count": 0,
      "outputs": []
    },
    {
      "cell_type": "code",
      "metadata": {
        "colab_type": "code",
        "id": "hOAoyBvYKCt-",
        "colab": {}
      },
      "source": [
        "plt.plot(epochs_range, loss_values, 'bo', label='Training loss')\n",
        "plt.plot(epochs_range, test_loss_values, 'ro', label='Test loss')\n",
        "plt.title('Training and test loss')\n",
        "plt.xlabel('Epochs')\n",
        "plt.ylabel('Loss')\n",
        "plt.legend()\n",
        "plt.show()"
      ],
      "execution_count": 0,
      "outputs": []
    },
    {
      "cell_type": "code",
      "metadata": {
        "colab_type": "code",
        "id": "ATfUtWDsKCuA",
        "colab": {}
      },
      "source": [
        "acc_values = history_dict['acc']\n",
        "test_acc_values = history_dict['val_acc']"
      ],
      "execution_count": 0,
      "outputs": []
    },
    {
      "cell_type": "markdown",
      "metadata": {
        "colab_type": "text",
        "id": "xRcwm0EVKCuC"
      },
      "source": [
        "Model is Overfitting: The training accuracy keeps increasing at a steady rate, while the test accuracy stagnated after the first few epochs"
      ]
    },
    {
      "cell_type": "code",
      "metadata": {
        "colab_type": "code",
        "id": "PqQJ543oKCuD",
        "colab": {}
      },
      "source": [
        "plt.plot(epochs_range, acc_values, 'bo', label='Training accuracy')\n",
        "plt.plot(epochs_range, test_acc_values, 'ro', label='Test accuracy')\n",
        "plt.title('Training and test accuracy')\n",
        "plt.xlabel('Epochs')\n",
        "plt.ylabel('Accuracy')\n",
        "plt.legend()\n",
        "plt.show()"
      ],
      "execution_count": 0,
      "outputs": []
    },
    {
      "cell_type": "markdown",
      "metadata": {
        "colab_type": "text",
        "id": "jJyN1x1lKCuF"
      },
      "source": [
        "## Make Predictions"
      ]
    },
    {
      "cell_type": "code",
      "metadata": {
        "colab_type": "code",
        "id": "uefFMFNFKCuG",
        "colab": {}
      },
      "source": [
        "predictions = model.predict(test_images)"
      ],
      "execution_count": 0,
      "outputs": []
    },
    {
      "cell_type": "code",
      "metadata": {
        "colab_type": "code",
        "id": "TMg4dAKEKCuI",
        "colab": {}
      },
      "source": [
        "index = 0\n",
        "predictions[index]"
      ],
      "execution_count": 0,
      "outputs": []
    },
    {
      "cell_type": "code",
      "metadata": {
        "colab_type": "code",
        "id": "2_xUyUvMKCuL",
        "colab": {}
      },
      "source": [
        "np.argmax(predictions[index])"
      ],
      "execution_count": 0,
      "outputs": []
    },
    {
      "cell_type": "code",
      "metadata": {
        "colab_type": "code",
        "id": "-BaYhGj1KCuN",
        "colab": {}
      },
      "source": [
        "test_labels[index]"
      ],
      "execution_count": 0,
      "outputs": []
    },
    {
      "cell_type": "code",
      "metadata": {
        "colab_type": "code",
        "id": "fU8SJuq1KCuQ",
        "colab": {}
      },
      "source": [
        "def plot_image(i, predictions_array, true_label, img):\n",
        "  predictions_array, true_label, img = predictions_array[i], true_label[i], img[i]\n",
        "  plt.grid(False)\n",
        "  plt.xticks([])\n",
        "  plt.yticks([])\n",
        "\n",
        "  plt.imshow(img, cmap=plt.cm.binary)\n",
        "\n",
        "  predicted_label = np.argmax(predictions_array)\n",
        "  if predicted_label == true_label:\n",
        "    color = 'blue'\n",
        "  else:\n",
        "    color = 'red'\n",
        "\n",
        "  plt.xlabel(\"{} {:2.0f}% ({})\".format(class_names[predicted_label],\n",
        "                                100*np.max(predictions_array),\n",
        "                                class_names[true_label]),\n",
        "                                color=color)\n",
        "\n",
        "def plot_value_array(i, predictions_array, true_label):\n",
        "  predictions_array, true_label = predictions_array[i], true_label[i]\n",
        "  plt.grid(False)\n",
        "  plt.xticks([])\n",
        "  plt.yticks([])\n",
        "  thisplot = plt.bar(range(10), predictions_array, color=\"#777777\")\n",
        "  plt.ylim([0, 1])\n",
        "  predicted_label = np.argmax(predictions_array)\n",
        "\n",
        "  thisplot[predicted_label].set_color('red')\n",
        "  thisplot[true_label].set_color('blue')"
      ],
      "execution_count": 0,
      "outputs": []
    },
    {
      "cell_type": "code",
      "metadata": {
        "colab_type": "code",
        "id": "mzGBMyzyKCuS",
        "colab": {}
      },
      "source": [
        "class_names = ['T-shirt/top', 'Trouser', 'Pullover', 'Dress', 'Coat',\n",
        "               'Sandal', 'Shirt', 'Sneaker', 'Bag', 'Ankle boot']\n",
        "\n",
        "index = 0\n",
        "plt.figure(figsize=(6,3))\n",
        "plt.subplot(1,2,1)\n",
        "plot_image(index, predictions, test_labels, test_images)\n",
        "plt.subplot(1,2,2)\n",
        "plot_value_array(index, predictions,  test_labels)\n"
      ],
      "execution_count": 0,
      "outputs": []
    },
    {
      "cell_type": "code",
      "metadata": {
        "colab_type": "code",
        "id": "2zO0RH3uKCuU",
        "colab": {}
      },
      "source": [
        "# Plot the first X test images, their predicted label, and the true label\n",
        "# Color correct predictions in blue, incorrect predictions in red\n",
        "num_rows = 5\n",
        "num_cols = 3\n",
        "num_images = num_rows*num_cols\n",
        "plt.figure(figsize=(2*2*num_cols, 2*num_rows))\n",
        "for i in range(num_images):\n",
        "  plt.subplot(num_rows, 2*num_cols, 2*i+1)\n",
        "  plot_image(i, predictions, test_labels, test_images)\n",
        "  plt.subplot(num_rows, 2*num_cols, 2*i+2)\n",
        "  plot_value_array(i, predictions, test_labels)\n"
      ],
      "execution_count": 0,
      "outputs": []
    }
  ]
}