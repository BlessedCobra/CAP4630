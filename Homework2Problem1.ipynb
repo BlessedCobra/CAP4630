{
  "nbformat": 4,
  "nbformat_minor": 0,
  "metadata": {
    "colab": {
      "name": "Homework2Problem1.ipynb",
      "provenance": []
    },
    "kernelspec": {
      "name": "python3",
      "display_name": "Python 3"
    }
  },
  "cells": [
    {
      "cell_type": "markdown",
      "metadata": {
        "id": "HEzUKrQvMKhF",
        "colab_type": "text"
      },
      "source": [
        "# Imports"
      ]
    },
    {
      "cell_type": "code",
      "metadata": {
        "id": "El7BdcfUNi1u",
        "colab_type": "code",
        "colab": {}
      },
      "source": [
        "import tensorflow as tf\n",
        "from tensorflow import keras\n",
        "from keras import models\n",
        "from keras import layers\n",
        "from keras import models\n",
        "from keras import optimizers\n",
        "import numpy as np\n",
        "import matplotlib.pyplot as plt\n",
        "\n",
        "from keras.datasets import mnist\n",
        "\n",
        "(train_images_original, train_labels_original), (test_images_original, test_labels_original) = mnist.load_data()"
      ],
      "execution_count": 0,
      "outputs": []
    },
    {
      "cell_type": "markdown",
      "metadata": {
        "id": "91gu7qVhR6eX",
        "colab_type": "text"
      },
      "source": [
        "# Preparing the image data"
      ]
    },
    {
      "cell_type": "code",
      "metadata": {
        "id": "UB7_xf0hzsPx",
        "colab_type": "code",
        "colab": {}
      },
      "source": [
        "train_images = train_images_original.reshape((60000, 28 * 28))\n",
        "train_images = train_images.astype('float32') / 255\n",
        "\n",
        "test_images = test_images_original.reshape((10000, 28 * 28))\n",
        "test_images = test_images.astype('float32') / 255"
      ],
      "execution_count": 0,
      "outputs": []
    },
    {
      "cell_type": "markdown",
      "metadata": {
        "id": "vRJnTOGPUmT1",
        "colab_type": "text"
      },
      "source": [
        "# Preparing the labels"
      ]
    },
    {
      "cell_type": "code",
      "metadata": {
        "id": "D86JHwcWUVgC",
        "colab_type": "code",
        "colab": {}
      },
      "source": [
        "from keras.utils import to_categorical\n",
        "\n",
        "train_labels = to_categorical(train_labels_original)\n",
        "test_labels = to_categorical(test_labels_original)"
      ],
      "execution_count": 0,
      "outputs": []
    },
    {
      "cell_type": "markdown",
      "metadata": {
        "id": "36YichvkWfgL",
        "colab_type": "text"
      },
      "source": [
        "# The network architecture"
      ]
    },
    {
      "cell_type": "code",
      "metadata": {
        "id": "J1ggKa17T2s5",
        "colab_type": "code",
        "outputId": "d951d919-2700-4e26-c4ef-701bd4ff293e",
        "colab": {
          "base_uri": "https://localhost:8080/",
          "height": 225
        }
      },
      "source": [
        "network = models.Sequential()\n",
        "network.add(layers.Dense(512, activation='relu', input_shape=(28 * 28,)))\n",
        "#np.concatenate(input_shape, 1 * 28,)\n",
        "network.add(layers.Dense(10, activation='softmax'))\n",
        "network.summary()"
      ],
      "execution_count": 29,
      "outputs": [
        {
          "output_type": "stream",
          "text": [
            "Model: \"sequential_5\"\n",
            "_________________________________________________________________\n",
            "Layer (type)                 Output Shape              Param #   \n",
            "=================================================================\n",
            "dense_8 (Dense)              (None, 512)               401920    \n",
            "_________________________________________________________________\n",
            "dense_9 (Dense)              (None, 10)                5130      \n",
            "=================================================================\n",
            "Total params: 407,050\n",
            "Trainable params: 407,050\n",
            "Non-trainable params: 0\n",
            "_________________________________________________________________\n"
          ],
          "name": "stdout"
        }
      ]
    },
    {
      "cell_type": "markdown",
      "metadata": {
        "id": "8H6VF7ZIY6Oy",
        "colab_type": "text"
      },
      "source": [
        "# The compilation step"
      ]
    },
    {
      "cell_type": "code",
      "metadata": {
        "id": "mHp0sz7cYPsK",
        "colab_type": "code",
        "colab": {}
      },
      "source": [
        "network.compile(optimizer='rmsprop',\n",
        "                loss='categorical_crossentropy',\n",
        "                metrics=['accuracy'])"
      ],
      "execution_count": 0,
      "outputs": []
    },
    {
      "cell_type": "markdown",
      "metadata": {
        "id": "LhtwzFe7Z8hh",
        "colab_type": "text"
      },
      "source": [
        "# The training step"
      ]
    },
    {
      "cell_type": "code",
      "metadata": {
        "id": "NkwllF8RZ_th",
        "colab_type": "code",
        "colab": {
          "base_uri": "https://localhost:8080/",
          "height": 381
        },
        "outputId": "b59cfb53-583c-4b9a-84fc-953b61f21884"
      },
      "source": [
        "epochs = 10\n",
        "history = network.fit(train_images, \n",
        "                      train_labels, \n",
        "                      epochs=epochs, \n",
        "                      batch_size=128, \n",
        "                      validation_data=(test_images, test_labels))"
      ],
      "execution_count": 31,
      "outputs": [
        {
          "output_type": "stream",
          "text": [
            "Train on 60000 samples, validate on 10000 samples\n",
            "Epoch 1/10\n",
            "60000/60000 [==============================] - 5s 80us/step - loss: 0.2644 - acc: 0.9230 - val_loss: 0.1416 - val_acc: 0.9588\n",
            "Epoch 2/10\n",
            "60000/60000 [==============================] - 5s 79us/step - loss: 0.1062 - acc: 0.9687 - val_loss: 0.0918 - val_acc: 0.9725\n",
            "Epoch 3/10\n",
            "60000/60000 [==============================] - 5s 79us/step - loss: 0.0699 - acc: 0.9790 - val_loss: 0.0755 - val_acc: 0.9766\n",
            "Epoch 4/10\n",
            "60000/60000 [==============================] - 5s 82us/step - loss: 0.0510 - acc: 0.9845 - val_loss: 0.0788 - val_acc: 0.9778\n",
            "Epoch 5/10\n",
            "60000/60000 [==============================] - 5s 79us/step - loss: 0.0386 - acc: 0.9886 - val_loss: 0.0630 - val_acc: 0.9800\n",
            "Epoch 6/10\n",
            "60000/60000 [==============================] - 5s 80us/step - loss: 0.0295 - acc: 0.9914 - val_loss: 0.0709 - val_acc: 0.9790\n",
            "Epoch 7/10\n",
            "60000/60000 [==============================] - 5s 79us/step - loss: 0.0230 - acc: 0.9931 - val_loss: 0.0698 - val_acc: 0.9798\n",
            "Epoch 8/10\n",
            "60000/60000 [==============================] - 5s 79us/step - loss: 0.0176 - acc: 0.9948 - val_loss: 0.0692 - val_acc: 0.9796\n",
            "Epoch 9/10\n",
            "60000/60000 [==============================] - 5s 78us/step - loss: 0.0136 - acc: 0.9960 - val_loss: 0.0733 - val_acc: 0.9803\n",
            "Epoch 10/10\n",
            "60000/60000 [==============================] - 5s 79us/step - loss: 0.0107 - acc: 0.9970 - val_loss: 0.0752 - val_acc: 0.9816\n"
          ],
          "name": "stdout"
        }
      ]
    },
    {
      "cell_type": "markdown",
      "metadata": {
        "id": "4gVJmqMzabMF",
        "colab_type": "text"
      },
      "source": [
        "# Training/Test Loss/Accuracy during training"
      ]
    },
    {
      "cell_type": "code",
      "metadata": {
        "id": "mTIayPksacrA",
        "colab_type": "code",
        "colab": {}
      },
      "source": [
        "history_dict = history.history\n",
        "loss_values = history_dict['loss']\n",
        "test_loss_values = history_dict['val_loss']\n",
        "epochs_range = range(1, epochs + 1)"
      ],
      "execution_count": 0,
      "outputs": []
    },
    {
      "cell_type": "code",
      "metadata": {
        "id": "-Bx-izJVaeUp",
        "colab_type": "code",
        "colab": {
          "base_uri": "https://localhost:8080/",
          "height": 295
        },
        "outputId": "a6d468da-8fe1-4fd9-f4d7-94b574ae683e"
      },
      "source": [
        "plt.plot(epochs_range, loss_values, 'bo', label='Training loss')\n",
        "plt.plot(epochs_range, test_loss_values, 'ro', label='Test loss')\n",
        "plt.title('Training and test loss')\n",
        "plt.xlabel('Epochs')\n",
        "plt.ylabel('Loss')\n",
        "plt.legend()\n",
        "plt.show()"
      ],
      "execution_count": 33,
      "outputs": [
        {
          "output_type": "display_data",
          "data": {
            "image/png": "[encoded data removed]",
            "text/plain": [
              "<Figure size 432x288 with 1 Axes>"
            ]
          },
          "metadata": {
            "tags": []
          }
        }
      ]
    },
    {
      "cell_type": "code",
      "metadata": {
        "id": "keP6R346agOD",
        "colab_type": "code",
        "colab": {}
      },
      "source": [
        "acc_values = history_dict['acc']\n",
        "test_acc_values = history_dict['val_acc']"
      ],
      "execution_count": 0,
      "outputs": []
    },
    {
      "cell_type": "code",
      "metadata": {
        "id": "D-baOLxZagru",
        "colab_type": "code",
        "colab": {
          "base_uri": "https://localhost:8080/",
          "height": 295
        },
        "outputId": "27bc3432-5342-40c3-bb08-64858d8aaa2a"
      },
      "source": [
        "plt.plot(epochs_range, acc_values, 'bo', label='Training accuracy')\n",
        "plt.plot(epochs_range, test_acc_values, 'ro', label='Test accuracy')\n",
        "plt.title('Training and test accuracy')\n",
        "plt.xlabel('Epochs')\n",
        "plt.ylabel('Accuracy')\n",
        "plt.legend()\n",
        "plt.show()"
      ],
      "execution_count": 35,
      "outputs": [
        {
          "output_type": "display_data",
          "data": {
            "image/png": "[encoded data removed]",
            "text/plain": [
              "<Figure size 432x288 with 1 Axes>"
            ]
          },
          "metadata": {
            "tags": []
          }
        }
      ]
    }
  ]
}