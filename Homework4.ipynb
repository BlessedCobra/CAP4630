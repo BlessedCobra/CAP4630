{
  "nbformat": 4,
  "nbformat_minor": 0,
  "metadata": {
    "colab": {
      "name": "Homework4.ipynb",
      "provenance": []
    },
    "kernelspec": {
      "name": "python3",
      "display_name": "Python 3"
    }
  },
  "cells": [
    {
      "cell_type": "markdown",
      "metadata": {
        "id": "11f2Plz9r8CU",
        "colab_type": "text"
      },
      "source": [
        "# General Concepts"
      ]
    },
    {
      "cell_type": "markdown",
      "metadata": {
        "id": "ZHfsDPxSsABj",
        "colab_type": "text"
      },
      "source": [
        "**Artificial Intelligence (AI)** is a very broad term, and what is considered \"AI\" changes as new advancements are made, but it generally refers to machines simulating human intelligence.\n",
        "\n",
        "A subfield within AI is **Machine Learning**, which is the concept that machines can perform a specific task with minimal human intervention.\n",
        "\n",
        "Within Machine Learning, there is the subfield **Deep Learning**, which centers on using **deep neural networks**. These neural networks typically take in raw data and are able to modify **weights** and **biases** to improve the accuracy and efficiency of the network.\n",
        "\n",
        "There are different kinds of deep learning, namely: **Supervised**, **Unsupervised**, and **Reinforcement** learning. Supervised learning models learn from labeled training data, unsupervised models learn from unlabeled training data, and reinforcement models learn from a given \"punishment\" or \"reward\" which essentially rates their prediction.\n",
        "\n",
        "A specific type of neural network is the **Convolutional Neural Network (CNN)**, which excels when dealing with images as input data."
      ]
    },
    {
      "cell_type": "markdown",
      "metadata": {
        "id": "ETHgYtr12sB3",
        "colab_type": "text"
      },
      "source": [
        "# Building a Model"
      ]
    },
    {
      "cell_type": "markdown",
      "metadata": {
        "id": "mwCEDjv326IA",
        "colab_type": "text"
      },
      "source": [
        "When building a neural network model, it is important to understand the structure of a neural network.\n",
        "\n",
        "Neural networks consist of **nodes**, which take in several input weights and a bias, and produce an output. A neural network consists of several connected layers of these nodes, which ultimately produce an output in the final layer, which is the output of the entire network.\n",
        "\n",
        "Nodes may sometimes have **activation functions**, which are functions applied to nodes that will produce a certain output. For example, the **sigmoid** activation function will produce an output from 0 to 1. The sigmoid activation function is particularly useful for **multi-class multi-label classification** and **binary classification**. Another common activation function is **softmax**. Softmax will take a layer of neurons and produce a probabiltiy distribution of that layer. Softmax is often used for **multi-class single label classification**.\n",
        "\n",
        "A CNN takes this concept a step further. A CNN takes in an image tensor as input (length **x** width **x** channel amount). After the input layer, several **convolutions** will occur onto the image from several **filters**, or kernels, throughout the entire image. The results of these convolutions is passed onto a **pooling layer**, where sets of pixels are condensed into a single pixel, thus shrinking the length and width of the result of the convolutional layer. This result is then passed onto pontentially more convolutional and pooling layers, repeating the process until satisfactory.\n",
        "\n",
        "Note: The convolutional and pooling layers are efficient for images because the filters perform their own feature extraction on the images, and can recognize patterns and features from anywhere on an image (this kind of feature-location independence is lost when using passing in images to a basic neural network).\n",
        "\n",
        "After the final pooling layer, the ouput tensor of that layer is flattened into a vector, and this vector is passed into a set of dense layers. At the end of these layers, an output will be produced (the output depends on the task, i.e. **image classification**)."
      ]
    },
    {
      "cell_type": "markdown",
      "metadata": {
        "id": "BdNc8ES-xpkV",
        "colab_type": "text"
      },
      "source": [
        "Below is an example of how to construct the layers of a CNN using Python: (code from Dr. Wocjan)"
      ]
    },
    {
      "cell_type": "code",
      "metadata": {
        "id": "fF7QWAPXqCMt",
        "colab_type": "code",
        "colab": {}
      },
      "source": [
        "from keras import models\n",
        "from keras import layers\n",
        "\n",
        "model = models.Sequential()\n",
        "model.add(layers.Conv2D(32, (3, 3), activation='relu', input_shape=(28, 28, 1)))\n",
        "model.add(layers.MaxPooling2D((2, 2)))\n",
        "model.add(layers.Conv2D(64, (3, 3), activation='relu'))\n",
        "model.add(layers.MaxPooling2D(2, 2))\n",
        "model.add(layers.Conv2D(64, (3, 3), activation='relu'))\n",
        "model.add(layers.Flatten())\n",
        "model.add(layers.Dense(64, activation='relu'))\n",
        "model.add(layers.Dense(10, activation='softmax'))\n",
        "model.summary()"
      ],
      "execution_count": 0,
      "outputs": []
    },
    {
      "cell_type": "markdown",
      "metadata": {
        "id": "as-9m_a1U_tm",
        "colab_type": "text"
      },
      "source": [
        "# Compiling a Model"
      ]
    },
    {
      "cell_type": "markdown",
      "metadata": {
        "id": "H-0XSm25VEbg",
        "colab_type": "text"
      },
      "source": [
        "When compiling a model, there are **hyperparameters** to consider, such as **learning rate**, **batch size**, **number of epochs**, and so on. These are all parameters that are explicitly defined by a human before the network begins training.\n",
        "\n",
        "The learning rate affects the rate at which **gradient descent** occurs. Gradient descent is the process of minimizing the **loss** of a neural network by finding a local minimum, which can be obtained by traveling in the opposite direction of the gradient. \n",
        "\n",
        "The loss of a neural network represents how far away a neural network's predictions are from correct. The ideal loss is 0. There are different loss functions for different types of neural networks. Some examples include **Mean Squared Error**, **Binary Cross Entropy**, and **Categorical Crossentropy**."
      ]
    },
    {
      "cell_type": "markdown",
      "metadata": {
        "id": "jo0D2UQMbOFF",
        "colab_type": "text"
      },
      "source": [
        "# Training a Model"
      ]
    },
    {
      "cell_type": "markdown",
      "metadata": {
        "id": "STXYegCHbbbj",
        "colab_type": "text"
      },
      "source": [
        "When training a model, it is important to avoid underfitting or overfitting.\n",
        "\n",
        "**Underfitting** occurs when the model is too simple to describe the data. To combat this, increase the complexity of the model by say, increasing the number of layers, or neurons in a layer.\n",
        "\n",
        "**Overfitting** occurs when the model may be too complex for the data, and the model simply remembers the training data and performs poorly on the testing data. To combat this, try reducing the complexity of the model (there are many other methods as well, such as using **dropout**). If training a CNN, methods such as **data-augmentation** and **fine-tuning** can be helpful as well.\n",
        "\n",
        "Also, as a general tip, make sure to use separate data for training and for validation, as validating on the training data could result in just memorization.\n",
        "\n"
      ]
    },
    {
      "cell_type": "markdown",
      "metadata": {
        "id": "VjlEHk3ziMeA",
        "colab_type": "text"
      },
      "source": [
        "# Fine-tuning a Pretrained Model"
      ]
    },
    {
      "cell_type": "markdown",
      "metadata": {
        "id": "dHRDv0JMiQKY",
        "colab_type": "text"
      },
      "source": [
        "**Fine-tuning** is the defined process of modifying a model by replacing its final layers. Fine-tuning is used when working with CNNs because it can be rather difficult to gather tons of image data and train a massive CNN, so it is efficient to instead take a pre-existing CNN like VGG or ResNet and append a unqiue set of fully connected layers at the end of it.\n",
        "\n"
      ]
    },
    {
      "cell_type": "markdown",
      "metadata": {
        "id": "YIJyWYH_pye4",
        "colab_type": "text"
      },
      "source": [
        "The steps of fine-tuning are as follows:"
      ]
    },
    {
      "cell_type": "markdown",
      "metadata": {
        "id": "ao5eyUypp2sK",
        "colab_type": "text"
      },
      "source": [
        "1) Remove the fully connected nodes at the end of the network and replace them with new ones.\n",
        "\n",
        "2) Freeze the earlier part of the network (the convolutional and pooling layers).\n",
        "\n",
        "3) Train the model.\n",
        "\n",
        "4) (optional) Unfreeze the network and run through a second round of training.\n"
      ]
    },
    {
      "cell_type": "markdown",
      "metadata": {
        "id": "-75DuswFrFJE",
        "colab_type": "text"
      },
      "source": [
        "Below is an example of what freezing the convolutional and pooling layers in a CNN might look like in Python: (code from Dr. Wocjan)"
      ]
    },
    {
      "cell_type": "code",
      "metadata": {
        "id": "C_dBGrRKjSjN",
        "colab_type": "code",
        "colab": {}
      },
      "source": [
        "conv_base.trainable = True\n",
        "\n",
        "set_trainable = False\n",
        "for layer in conv_base.layers:\n",
        "  if layer.name == 'block5_conv1':\n",
        "    set_trainable = True\n",
        "  if set_trainable:\n",
        "    layer.trainable = True\n",
        "  else:\n",
        "    layer.trainable = False"
      ],
      "execution_count": 0,
      "outputs": []
    }
  ]
}